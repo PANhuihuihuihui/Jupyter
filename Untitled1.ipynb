{
 "cells": [
  {
   "cell_type": "code",
   "execution_count": 1,
   "metadata": {},
   "outputs": [
    {
     "name": "stdout",
     "output_type": "stream",
     "text": [
      "1\n",
      "10\n",
      "{0: 0, 1: 1, 2: 2, 3: 2, 4: 3, 5: 4, 6: 3, 7: 4, 8: 4, 9: 3, 10: 4}\n"
     ]
    }
   ],
   "source": [
    "import sys\n",
    "def getoutput(target):\n",
    "    count = 0\n",
    "    while target != 1:\n",
    "        modemin1_3 = (target-1)%3\n",
    "        mode3 = target % 3\n",
    "        mode2 = target % 2\n",
    "        if modemin1_3 == 0:\n",
    "            target = target - 1\n",
    "        elif mode3 == 0:\n",
    "            target = target / 3\n",
    "        elif mode2 == 0:\n",
    "            target = target / 2\n",
    "        else:\n",
    "            target = target - 1\n",
    "        print(target)\n",
    "        count +=1\n",
    "    return count+1\n",
    "if __name__ == \"__main__\":\n",
    "    #dp\n",
    "    T = int(input())\n",
    "    dic = {}\n",
    "    dic[0] = 0\n",
    "    dic[1] = 1\n",
    "    dic[2] = 2\n",
    "    dic[3] = 2\n",
    "    dic[4] = 3\n",
    "    for i in range(T):\n",
    "        target = int(input())\n",
    "        if target in dic.keys():\n",
    "            print(dic[target])\n",
    "        else:\n",
    "            for i in range(1,target+1):\n",
    "                keys = dic.keys()\n",
    "                if i not in keys :\n",
    "                    if i / 3 in keys and i /2 in keys and i-1 in keys:\n",
    "                        dic[i] = min(dic[i/3],dic[i/2],dic[i-1])+1\n",
    "\n",
    "                    elif i / 3 in keys and i-1 in keys:\n",
    "                        dic[i] = min(dic[i-1],dic[i/3])+1\n",
    "\n",
    "                    elif i / 2 in keys and i-1 in keys:\n",
    "                        dic[i] = min(dic[i-1],dic[i/2])+1\n",
    "\n",
    "                    elif i / 3 in keys and i / 2 in keys:\n",
    "                        dic[i] = min(dic[i/3],dic[i/2])+1\n",
    "                    else:\n",
    "                        dic[i] = dic[i-1]+1\n",
    "                        \n",
    "            print(dic[target])"
   ]
  },
  {
   "cell_type": "code",
   "execution_count": null,
   "metadata": {},
   "outputs": [],
   "source": []
  }
 ],
 "metadata": {
  "kernelspec": {
   "display_name": "Python 3",
   "language": "python",
   "name": "python3"
  },
  "language_info": {
   "codemirror_mode": {
    "name": "ipython",
    "version": 3
   },
   "file_extension": ".py",
   "mimetype": "text/x-python",
   "name": "python",
   "nbconvert_exporter": "python",
   "pygments_lexer": "ipython3",
   "version": "3.7.3"
  }
 },
 "nbformat": 4,
 "nbformat_minor": 4
}
