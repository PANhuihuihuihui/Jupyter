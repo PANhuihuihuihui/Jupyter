{
 "cells": [
  {
   "cell_type": "markdown",
   "metadata": {},
   "source": [
    "# Algoexpert\n",
    "\n",
    "## Easy\n",
    "1.Two number sum<br>\n",
    "given: \\[array = [-4,-1,1,3,5,6,8,10,11\\] ,target = 11<br>\n",
    "question: find a + b = target\n",
    "* method one : O(N^2)\n",
    "* method one+ : O(N^2) but better\n",
    "* method three： check the target y is in hash table or not\n",
    "  ** time:  O(N) space: O(N)\n",
    "* method three: sort and find\n",
    "  ** time:  O(NlogN) space: O(1)\n"
   ]
  },
  {
   "cell_type": "code",
   "execution_count": 28,
   "metadata": {},
   "outputs": [],
   "source": [
    "def twoNumberSum(array,target,method):\n",
    "    if method ==1:\n",
    "        for i in array:\n",
    "            for j in array:\n",
    "                if i + j == target:\n",
    "                    return i,j\n",
    "        return None\n",
    "    if method == \"1+\":# improve\n",
    "        for i in range(len(array)-1):  ## -1 is for next \n",
    "            firstNum = array[i]\n",
    "            for j in range(i+1,len(array)-1):\n",
    "                secondNum = array[j]\n",
    "                if secondNum + firstNum == target:\n",
    "                    return firstNum, secondNum\n",
    "        return None\n",
    "    \n",
    "    if method == 2:\n",
    "        dic = {}\n",
    "        for i in array:\n",
    "            y = target - i\n",
    "            if y not in dic:\n",
    "                dic[i]=True\n",
    "            else:\n",
    "                return i,y\n",
    "            print(dic,i,y)\n",
    "        return None\n",
    "    \"\"\"\n",
    "    foo = d[key] # raise error if key doesn't exist\n",
    "    foo = d.get(key) # return None if key doesn't exist\n",
    "    \"\"\"\n",
    "    if method == 3:\n",
    "        array.sort()\n",
    "        \"\"\"\n",
    "        你也可以使用 list 的 list.sort() 方法。这个方法会修改原始的 list（返回值为None）。\n",
    "        通常这个方法不如sorted()方便-如果你不需要原始的 list，list.sort()方法效率会稍微高一些。\n",
    "        \"\"\"\n",
    "        left = 0\n",
    "        right = len(array)-1\n",
    "        while left != right:\n",
    "            if array[left] + array[right] < target:\n",
    "                left+=1\n",
    "            if array[left] + array[right] > target:\n",
    "                right-=1\n",
    "            if array[left] + array[right] == target:\n",
    "                return array[left], array[right]\n",
    "        return None\n",
    "        \n",
    "array = [-4,-1,1,3,5,6,8,10,11]\n",
    "target = 11\n",
    "print(twoNumberSum(array,target,3))                "
   ]
  },
  {
   "cell_type": "markdown",
   "metadata": {},
   "source": [
    "2. subsquence validation\n",
    "given: two array\n",
    "question: find if one is subsequece of another one"
   ]
  },
  {
   "cell_type": "code",
   "execution_count": 33,
   "metadata": {},
   "outputs": [
    {
     "name": "stdout",
     "output_type": "stream",
     "text": [
      "True\n"
     ]
    }
   ],
   "source": [
    "def subsquence(array,sub):\n",
    "    subIdx = 0\n",
    "    for i in array:\n",
    "        if i == sub[subIdx]:\n",
    "            subIdx+=1\n",
    "        if subIdx == len(sub):\n",
    "            return True\n",
    "    return False\n",
    "\n",
    "array = [5,1,22,25,6,-1,8,10]\n",
    "sub = [1,6,-1,10]\n",
    "print(subsquence(array,sub))"
   ]
  },
  {
   "cell_type": "markdown",
   "metadata": {},
   "source": [
    "3. __find cloest value in the BST__\n",
    "given: binary search tree, Value<br>\n",
    "question: find the cloest value<br>\n",
    "solution: abs(current - target) and compare it<br>\n",
    "each time we elimate half<br>\n",
    "* time: avg: O(logN) worest :O(N)\n",
    "* space: avg: O(logN) worest :O(N)\n",
    "\n",
    "!!!rememnber !!!<br> \n",
    "__BST implement__ <br>\n",
    "__Left and right__<br>\n",
    "witout recursion save the space complexity "
   ]
  },
  {
   "cell_type": "code",
   "execution_count": 25,
   "metadata": {},
   "outputs": [],
   "source": [
    "# implement of BST\n",
    "class Node:\n",
    "    def __init__(self,key):\n",
    "        self.left = None\n",
    "        self.right = None\n",
    "        self.val = key\n",
    "        \n",
    "def search(root,key):\n",
    "    if root == None or root.val == key:\n",
    "        return root\n",
    "    if root.val < key:\n",
    "        return search(root.left,key)\n",
    "    else:\n",
    "        return search(root.right,key)\n",
    "\n",
    "def insert(root,key):\n",
    "    if root == None:\n",
    "        return Node(key)\n",
    "    else:\n",
    "        if root.val == key:\n",
    "            return root\n",
    "        elif root.val < key:\n",
    "            root.right = insert(root.right,key)\n",
    "        else:\n",
    "            root.left = insert(root.left,key)\n",
    "    return root\n",
    "def inorder(root): \n",
    "    if root: \n",
    "        inorder(root.left) \n",
    "        print(root.val) \n",
    "        inorder(root.right)\n",
    "# test\n",
    "r = Node(50) \n",
    "r = insert(r, 30) \n",
    "r = insert(r, 20) \n",
    "r = insert(r, 40) \n",
    "r = insert(r, 70) \n",
    "r = insert(r, 60) \n",
    "r = insert(r, 80) "
   ]
  },
  {
   "cell_type": "code",
   "execution_count": 12,
   "metadata": {},
   "outputs": [
    {
     "data": {
      "text/plain": [
       "70"
      ]
     },
     "execution_count": 12,
     "metadata": {},
     "output_type": "execute_result"
    }
   ],
   "source": [
    "def findCloest(tree,value):\n",
    "    return findCloestHelper(tree,value,float('inf'))\n",
    "def findCloestHelper(tree,value,closest):\n",
    "    if tree is None:\n",
    "        return closest\n",
    "    if abs(tree.val - value) < abs(value - closest):\n",
    "        closest = tree.val\n",
    "    if tree.val < value:\n",
    "        return findCloestHelper(tree.right,value,closest)\n",
    "    elif tree.val > value:\n",
    "        return findCloestHelper(tree.left,value,closest)\n",
    "    else:\n",
    "        return closest\n",
    "def findCloestfinnal(tree,target,closest = float('inf')):\n",
    "    currentNode = tree\n",
    "    while currentNode is not None:\n",
    "        if abs(target -closest) > abs(target -currentNode.val):\n",
    "            closest = currentNode.val\n",
    "        if currentNode.val < target:\n",
    "            currentNode = currentNode.right\n",
    "        elif currentNode.val >target:\n",
    "            currentNode = currentNode.left\n",
    "        else:\n",
    "            break\n",
    "    return closest\n",
    "# test \n",
    "findCloest(r,75)\n",
    "findCloestfinnal(r,75)"
   ]
  },
  {
   "cell_type": "markdown",
   "metadata": {},
   "source": [
    "4. Branch search\n",
    "given: BFS tree<br>\n",
    "question: return a list of branch search<br>\n",
    "* time O(N) space(N)\n",
    "\n",
    "\n",
    "    * branch a path form root to left nodes\n",
    "    * solution BFS +  sum, may use fork() to increase the speed.\n",
    "   "
   ]
  },
  {
   "cell_type": "code",
   "execution_count": 24,
   "metadata": {},
   "outputs": [
    {
     "name": "stdout",
     "output_type": "stream",
     "text": [
      "[9, 35, 41]\n"
     ]
    }
   ],
   "source": [
    "def branchSum(node,return_list,currentSum=0):\n",
    "    if node.left is None and node.right is None:\n",
    "        return_list.append(currentSum)\n",
    "    else:\n",
    "        if node.left:\n",
    "            currentSum= currentSum + node.left.val\n",
    "            \n",
    "            branchSum(node.left,return_list,currentSum)\n",
    "        if node.right:\n",
    "            currentSum=currentSum +node.right.val\n",
    "            branchSum(node.right,return_list,currentSum)\n",
    "return_list = []\n",
    "branchSum(r,return_list)\n",
    "print(return_list)"
   ]
  },
  {
   "cell_type": "markdown",
   "metadata": {},
   "source": [
    "4. Node Depths\n",
    "given: AVL tree<br>\n",
    "question: return sum of the all branch depth<br>\n",
    "* method: recursive >>> f(n,d) = d +f(l,d+1) + f(r,d+1)\n",
    "    ** time O(N) space: O(h) >>> balance O(logN)\n",
    "* methon: literatively stack"
   ]
  },
  {
   "cell_type": "code",
   "execution_count": 31,
   "metadata": {},
   "outputs": [
    {
     "data": {
      "text/plain": [
       "True"
      ]
     },
     "execution_count": 31,
     "metadata": {},
     "output_type": "execute_result"
    }
   ],
   "source": [
    "def depthSum_liter(root):\n",
    "    sumOfDepth = 0\n",
    "    stack = [(root,0)]\n",
    "    while len(stack) > 0:\n",
    "        node,depth = stack.pop()\n",
    "        if node is None:\n",
    "            continue\n",
    "        sumOfDepth += depth\n",
    "        stack.append((node.left,depth+1))\n",
    "        stack.append((node.right,depth+1))\n",
    "    return sumOfDepth\n",
    "def depthSum_recur(root,depth = 0):\n",
    "    #base case\n",
    "    if root is None:\n",
    "        return 0\n",
    "    return depthSum_recur(root.left,depth+1)+depthSum_recur(root.right,depth+1)+depth\n",
    "#test\n",
    "depthSum_liter(r) == depthSum_recur(r)"
   ]
  },
  {
   "cell_type": "markdown",
   "metadata": {},
   "source": [
    "5. DFS\n",
    "* time : O(V+E) vector + edge space: O(V)\n",
    "\n",
    "\n"
   ]
  },
  {
   "cell_type": "code",
   "execution_count": 32,
   "metadata": {},
   "outputs": [],
   "source": [
    "class Node:\n",
    "    def __init__(self,name):\n",
    "        self.children = []\n",
    "        self.name = name\n",
    "    def addChildren(self,name):\n",
    "        self.children.append(Node(name))\n",
    "    def DFS(self,array):\n",
    "        array.append(self.name)\n",
    "        for child in self.children:\n",
    "            child.DFS(array)\n",
    "        return array"
   ]
  },
  {
   "cell_type": "markdown",
   "metadata": {},
   "source": [
    "6.linked list\n",
    "插入before的过程\n",
    "1. 切断新插入的原有连接\n",
    "2. 安排新插入的next\n",
    "3. 安排新插入的prev\n",
    "4. node.prev.next注意！！！ 被插入node 的前面的next None / value\n",
    "5. node prev = new\n",
    "remove过程\n",
    "1. 考虑是否是头尾\n",
    "2. "
   ]
  },
  {
   "cell_type": "code",
   "execution_count": 18,
   "metadata": {},
   "outputs": [],
   "source": [
    "class Node:\n",
    "    def __init__(self,value,node_before,node_after):\n",
    "        self.value = value\n",
    "        self.prev = node_before\n",
    "        self.next = node_after\n",
    "class DoubleLinkList:\n",
    "    def __init__(self):\n",
    "        self.head =None\n",
    "        self.tail =None\n",
    "    # O(1) time | O(1) space\n",
    "    def __repr__(self):\n",
    "        node = self.head\n",
    "        string = \"\"\n",
    "        while node != None:\n",
    "            string = string + str(node.value) + \"<->\"\n",
    "            node = node.next\n",
    "        return string[:-3]\n",
    "    def setHead(self,node):\n",
    "        if self.head == None:\n",
    "            self.head = node\n",
    "            self.tail = node\n",
    "            return\n",
    "        self.insertBefore(self.head,node)\n",
    "    # O(1) time | O(1) space\n",
    "    def setTail(self,node):\n",
    "        if self.tail == None:\n",
    "            self.head = node\n",
    "            self.tail = node\n",
    "            return\n",
    "        self.insertAfter(self.tail,node)\n",
    "    # O(1) time | O(1) space\n",
    "    def insertBefore(self,node,nodeToInsert):\n",
    "        self.remove(nodeToInsert)\n",
    "        nodeToInsert.prev = node.prev\n",
    "        nodeToInsert.next = node\n",
    "        if node.prev == None:\n",
    "            self.head = node\n",
    "        else:\n",
    "            node.prev.next = nodeToInsert #!!!!\n",
    "        node.prev = nodeToInsert\n",
    "        \n",
    "    def insertAfter(self,node,nodeToInsert):\n",
    "        self.remove(nodeToInsert)\n",
    "        nodeToInsert.prev = node\n",
    "        nodeToInsert.next = node.next\n",
    "        if node.next == None:\n",
    "            self.tail = nodeToInsert\n",
    "        else:\n",
    "            node.next.prev = nodeToInsert\n",
    "        node.next = nodeToInsert\n",
    "    def insertAtPosition(self, position, nodeToInsert):\n",
    "        if position == 1:\n",
    "            self.setHead(nodeToInsert)\n",
    "            return\n",
    "        node = self.head\n",
    "        currentPosition = 1\n",
    "        while node is not None and currentPosition != position:\n",
    "            node = node.next\n",
    "            currentPosition += 1\n",
    "        if node is not None:\n",
    "            self.insertBefore(node, nodeToInsert)\n",
    "        else:\n",
    "            self.setTail(nodeToInsert)\n",
    "    # O(n) time | O(1) space\n",
    "    def removeNodeWithValue(self,value):\n",
    "        node = self.head\n",
    "        while node is not None:\n",
    "            nodeToRemove = node\n",
    "            node = node.next\n",
    "            if nodeToRemove.value == value:\n",
    "                self.remove(nodeToRemove) \n",
    "\n",
    "    def remove(self,node):\n",
    "        if node == self.head:\n",
    "            self.head = self.head.next\n",
    "        if node == self.tail:\n",
    "            self.tail = self.tail.prev\n",
    "        # have two node\n",
    "        if node.prev is not None:\n",
    "            node.prev.next = node.next\n",
    "        if node.next is not None:\n",
    "            node.next.prev = node.prev\n",
    "        node.prev = None\n",
    "        node.next = None\n",
    "        del node\n",
    "    def containValue(self,value):\n",
    "        node = self.head\n",
    "        while node is not None and node.value != value:\n",
    "            node = node.next\n",
    "        return node is not None"
   ]
  },
  {
   "cell_type": "code",
   "execution_count": 19,
   "metadata": {},
   "outputs": [
    {
     "name": "stdout",
     "output_type": "stream",
     "text": [
      "1<->2<->3<->4\n"
     ]
    }
   ],
   "source": [
    "link = DoubleLinkList()\n",
    "link.insertAtPosition(1,Node(1,None,None))\n",
    "link.insertAtPosition(2,Node(2,None,None))\n",
    "link.insertAtPosition(3,Node(3,None,None))\n",
    "link.insertAtPosition(4,Node(4,None,None))\n",
    "print(link)"
   ]
  },
  {
   "cell_type": "markdown",
   "metadata": {},
   "source": [
    "7. n fibonacci number\n",
    "<br>give n-th fibonacci number value\n",
    "\n",
    "    * method one : recurision time: O(2^N) space O(N) at most N call stack \n",
    "    * method two : memory time: O(N) space O(N) only calculate once\n",
    "    * method three: \\[0,1\\] time: O(N) space O(1) only calculate once"
   ]
  },
  {
   "cell_type": "code",
   "execution_count": 52,
   "metadata": {},
   "outputs": [
    {
     "data": {
      "text/plain": [
       "4181"
      ]
     },
     "execution_count": 52,
     "metadata": {},
     "output_type": "execute_result"
    }
   ],
   "source": [
    "# time \n",
    "def fib_Recurision(n):\n",
    "    if n == 2:\n",
    "        return 1\n",
    "    elif n == 1:\n",
    "        return 0\n",
    "    else:\n",
    "        return Fib(n-1)+Fib(n-2)\n",
    "def fib_memory(n,memory = {1:0,2:1}):\n",
    "    if n in memory:\n",
    "        return memory[n]\n",
    "    else:\n",
    "        memory[n] = fib_memory(n-1,memory) + fib_memory(n-2,memory)\n",
    "        return memory[n]\n",
    "def fib_list(n):\n",
    "    last = [0,1]\n",
    "    counter = 3\n",
    "    while n >=  counter:\n",
    "        nextfib  = last[0]+last[1]\n",
    "        last[0] = last[1]\n",
    "        last[1] = nextfib\n",
    "        counter+=1\n",
    "    return last[1] if n >1 else last[0]\n",
    "fib_list(20)"
   ]
  },
  {
   "cell_type": "markdown",
   "metadata": {},
   "source": [
    "8. product sum\n",
    "<br> question \\[5,2,[7,1],3,[6,[-13,8]4]\\] sum the value and product the depth\n",
    "* time O(N) space O(d)\n"
   ]
  },
  {
   "cell_type": "code",
   "execution_count": 50,
   "metadata": {},
   "outputs": [],
   "source": [
    "def productSum(array,level = 1):\n",
    "    result = 0\n",
    "    for element in array:\n",
    "        if  isinstance(element,int):\n",
    "            result += element\n",
    "        elif isinstance(element,list):\n",
    "            result +=productSum(element,level+1)\n",
    "    return result * level\n",
    "productSum([5,2,[7,-1],3,[6,[-13,8],4]])"
   ]
  },
  {
   "cell_type": "markdown",
   "metadata": {},
   "source": [
    "9. binary search\n",
    "quetion : find the index of value in sorted array\n",
    "* remeber: mid update, len(array) -1"
   ]
  },
  {
   "cell_type": "code",
   "execution_count": 58,
   "metadata": {},
   "outputs": [
    {
     "data": {
      "text/plain": [
       "'not find'"
      ]
     },
     "execution_count": 58,
     "metadata": {},
     "output_type": "execute_result"
    }
   ],
   "source": [
    "def binarySearch(array,value):\n",
    "    left = 0\n",
    "    right = len(array)-1\n",
    "    mid = int((left + right)/2)\n",
    "    while left <= right:\n",
    "        if array[mid] > value:\n",
    "            right = mid - 1\n",
    "        elif array[mid] < value:\n",
    "            left = mid + 1\n",
    "        elif array[mid] == value:\n",
    "            return mid\n",
    "        mid = int((left + right)/2)\n",
    "    return \"not find\"\n",
    "\n",
    "array = [1,2,3,4,6,7,8,12,15,99]\n",
    "\n",
    "binarySearch(array,100)"
   ]
  },
  {
   "cell_type": "markdown",
   "metadata": {},
   "source": [
    "10. find the three largest number\n"
   ]
  },
  {
   "cell_type": "code",
   "execution_count": 64,
   "metadata": {},
   "outputs": [
    {
     "data": {
      "text/plain": [
       "[12, 15, 99]"
      ]
     },
     "execution_count": 64,
     "metadata": {},
     "output_type": "execute_result"
    }
   ],
   "source": [
    "#time = O(N) space O(1)\n",
    "def largestThree(array):\n",
    "    threeLargest = [None, None, None]\n",
    "    for num in array:\n",
    "        updateLargest(threeLargest, num)\n",
    "    return threeLargest\n",
    "def updateLargest(threeLargest, num):\n",
    "    if threeLargest[2] is None or num > threeLargest[2]:\n",
    "        shiftAndUpdate(threeLargest, num, 2)\n",
    "    elif threeLargest[1] is None or num > threeLargest[1]:\n",
    "        shiftAndUpdate(threeLargest, num, 1)\n",
    "    elif threeLargest[0] is None or num > threeLargest[0]:\n",
    "        shiftAndUpdate(threeLargest, num, 0)\n",
    "def shiftAndUpdate(array,num,pos):\n",
    "    for i in range(pos+1):\n",
    "        if i == pos:\n",
    "            array[i] = num\n",
    "        else:\n",
    "            array[i] =  array[i+1]\n",
    "a = [1,2,3,4,6,7,8,12,15,99]\n",
    "largestThree(a)"
   ]
  },
  {
   "cell_type": "markdown",
   "metadata": {},
   "source": [
    "### sort summary \n",
    "11. insert sort/ swap()\n",
    "<br> 假设前面的是排序好的 "
   ]
  },
  {
   "cell_type": "code",
   "execution_count": 80,
   "metadata": {},
   "outputs": [
    {
     "name": "stdout",
     "output_type": "stream",
     "text": [
      "[99, 15, 12, 8, 7, 6, 4, 3, 2, 1]\n",
      "True\n"
     ]
    }
   ],
   "source": [
    "# time O(N^2) space O(1)\n",
    "def insertSort(array):\n",
    "    for i in range(1,len(array)):\n",
    "        j = i\n",
    "        while j > 0 and array[j]< array[j-1]:\n",
    "            swap(j,j-1,array)\n",
    "            j-=1\n",
    "    return array\n",
    "def swap(index1,index2,array):\n",
    "    tmp = array[index1]\n",
    "    array[index1] = array[index2]\n",
    "    array[index2] = tmp\n",
    "a = [1,2,3,4,6,7,8,12,15,99]\n",
    "a.reverse()\n",
    "print(a)\n",
    "print(insertSort(a) == sorted(a))"
   ]
  },
  {
   "cell_type": "markdown",
   "metadata": {},
   "source": [
    "12. bubble sort\n",
    "<br> literative the list many time \n",
    "<br> 找到一个最大的 放在后面 >>>> 放在后面的一定是最大的\n",
    "    * time O(N^2) space O(1)\n"
   ]
  },
  {
   "cell_type": "code",
   "execution_count": 84,
   "metadata": {},
   "outputs": [
    {
     "name": "stdout",
     "output_type": "stream",
     "text": [
      "[99, 15, 12, 8, 7, 6, 4, 3, 2, 1]\n",
      "[1, 2, 3, 4, 6, 7, 8, 12, 15, 99]\n"
     ]
    }
   ],
   "source": [
    "def bubbleSort(array):\n",
    "    isSorted = False\n",
    "    counter = 0 ## important in practice \n",
    "    while not isSorted:\n",
    "        isSorted =  True\n",
    "        for i in range(len(array) - 1 -counter):\n",
    "            if array[i] > array[i+1]:\n",
    "                array[i],array[i+1] =  array[i+1],array[i]\n",
    "                isSorted = False\n",
    "        counter += 1\n",
    "    return array\n",
    "a = [1,2,3,4,6,7,8,12,15,99]\n",
    "a.reverse()\n",
    "print(a)\n",
    "print(bubbleSort(a))"
   ]
  },
  {
   "cell_type": "markdown",
   "metadata": {},
   "source": [
    "13. select sort\n",
    "<br> find the min in the unsorted list put in \n",
    "\n",
    "\n",
    "\n",
    "\n"
   ]
  },
  {
   "cell_type": "code",
   "execution_count": 1,
   "metadata": {},
   "outputs": [
    {
     "name": "stdout",
     "output_type": "stream",
     "text": [
      "[99, 15, 12, 8, 7, 6, 4, 3, 2, 1]\n",
      "[1, 2, 3, 4, 6, 7, 8, 12, 15, 99]\n"
     ]
    }
   ],
   "source": [
    "# time O(N^2) space O(1)\n",
    "def selectSort(array):\n",
    "    for i in range(len(array)):\n",
    "        min_value = array[i]\n",
    "        for j in range(i,len(array)):\n",
    "            if min_value > array[j]:\n",
    "                min_value = array[j]\n",
    "                array[i],array[j] = min_value,array[i]\n",
    "    return array\n",
    "\n",
    "a = [1,2,3,4,6,7,8,12,15,99]\n",
    "a.reverse()\n",
    "print(a)\n",
    "print(selectSort(a))"
   ]
  },
  {
   "cell_type": "code",
   "execution_count": null,
   "metadata": {},
   "outputs": [],
   "source": [
    "def quickSort(array):\n",
    "    quickSortHelper(array, 0, len(array) - 1)\n",
    "    return array\n",
    "def quickSortHelper(array, startIdx, endIdx):\n",
    "    if startIdx >= endIdx:\n",
    "        return\n",
    "    pivotIdx = startIdx\n",
    "    leftIdx = startIdx + 1\n",
    "    rightIdx = endIdx\n",
    "    while rightIdx >= leftIdx:\n",
    "        if array[leftIdx] > array[pivotIdx] and array[rightIdx] < array[pivotIdx]:\n",
    "            swap(leftIdx, rightIdx, array)\n",
    "        if array[leftIdx] <= array[pivotIdx]:\n",
    "            leftIdx += 1\n",
    "        if array[rightIdx] >= array[pivotIdx]:\n",
    "            rightIdx -= 1\n",
    "    swap(pivotIdx, rightIdx, array)\n",
    "    leftSubarrayIsSmaller = rightIdx - 1 - startIdx < endIdx - (rightIdx + 1)\n",
    "    if leftSubarrayIsSmaller:\n",
    "        quickSortHelper(array, startIdx, rightIdx - 1)\n",
    "        quickSortHelper(array, rightIdx + 1, endIdx)\n",
    "    else:\n",
    "        quickSortHelper(array, rightIdx + 1, endIdx)\n",
    "        quickSortHelper(array, startIdx, rightIdx - 1)\n",
    "def swap(i, j, array):\n",
    "    array[i], array[j] = array[j], array[i]"
   ]
  },
  {
   "cell_type": "markdown",
   "metadata": {},
   "source": [
    "14. Palindorme check\n",
    "    * method one : newstring+= string\\[i\\] time O(N^2) space O(N) \n",
    "    * method two: new.append(string\\[i\\]) time O(N) space O(N)\n",
    "    * method three: return first == last and is(mid) time O(N/2) space O(N/2)\n",
    "    * method four : pointer time O(N/2) space O(1)\n"
   ]
  },
  {
   "cell_type": "code",
   "execution_count": 90,
   "metadata": {},
   "outputs": [
    {
     "name": "stdout",
     "output_type": "stream",
     "text": [
      "True True True True\n"
     ]
    }
   ],
   "source": [
    "# O(n^2) time | O(n) space\n",
    "def isPalindrome1(string):\n",
    "    reversedString = \"\"\n",
    "    for i in reversed(range(len(string))):\n",
    "        reversedString += string[i] #O(N)\n",
    "    return string == reversedString\n",
    "def isPalindrome2(string):\n",
    "    reversedlist = []\n",
    "    for i in reversed(range(len(string))): \n",
    "        reversedlist.append(string[i])\n",
    "    return string == \"\".join(reversedlist)\n",
    "def isPalindrome3(string,i=0):\n",
    "    j = len(string)-1-i\n",
    "    return True if i>=j else string[i] == string[j] and isPalindrome3(string,i+1)\n",
    "def isPalindrome4(string):\n",
    "    leftIdx = 0\n",
    "    rightIdx = len(string) -1\n",
    "    while leftIdx < rightIdx:\n",
    "        if string[leftIdx] != string[rightIdx]:\n",
    "            return False\n",
    "        leftIdx += 1\n",
    "        rightIdx -= 1\n",
    "    return True\n",
    "a = \"123456789987654321\"\n",
    "print(isPalindrome1(a),isPalindrome2(a),isPalindrome1(a),isPalindrome2(a))"
   ]
  },
  {
   "cell_type": "markdown",
   "metadata": {},
   "source": [
    "15 Casesar chipher encryptor\n"
   ]
  },
  {
   "cell_type": "code",
   "execution_count": 91,
   "metadata": {},
   "outputs": [],
   "source": [
    "def caesarCipherEncryptor(string, key):\n",
    "    newLetters = []\n",
    "    newKey = key % 26\n",
    "    for letter in string:\n",
    "        newLetters.append(getNewLetter(letter, newKey))\n",
    "    return \"\".join(newLetters)\n",
    "def getNewLetter(letter, key):\n",
    "    newLetterCode = ord(letter) + key\n",
    "    return chr(newLetterCode) if newLetterCode <= 122 else chr(96+ newLetterCode % 122)\n",
    "\n",
    "def caesarCipherEncryptor2(string, key):\n",
    "    newLetters = []\n",
    "    newKey = key % 26 # 0-25\n",
    "    alphabet = list(\"abcdefghijklmnopqrstuvwxyz\")\n",
    "    for letter in string:\n",
    "        newLetters.append(getNewLetter2(letter, newKey, alphabet))\n",
    "    return \"\".join(newLetters)\n",
    "def getNewLetter2(letter, key, alphabet):\n",
    "    newLetterCode = alphabet.index(letter) + key\n",
    "    return alphabet[newLetterCode] if newLetterCode <= 25 else alphabet[-1 + newLetterCode % 25]"
   ]
  },
  {
   "cell_type": "markdown",
   "metadata": {},
   "source": [
    "## Medium\n",
    "1. Three Number sum\n",
    "<br>find all possible solution in array\n",
    "* hash table: \n",
    "* best method : sort + find O(N^2)\n",
    "     *** 指定一个，相等两边都动"
   ]
  },
  {
   "cell_type": "code",
   "execution_count": 2,
   "metadata": {},
   "outputs": [
    {
     "name": "stdout",
     "output_type": "stream",
     "text": [
      "[(2, 6, -8), (3, 5, -8), (1, 5, -6)]\n"
     ]
    }
   ],
   "source": [
    "def threeSum(array,target):\n",
    "    sort = sorted(array)\n",
    "    result = []\n",
    "    for i in range(len(sort)-2): # last 3rd\n",
    "        left = i+1\n",
    "        right = len(sort)-1\n",
    "        while left < right:\n",
    "            if sort[left] +sort[right] + sort[i] > target:\n",
    "                right -=1\n",
    "            elif sort[left] +sort[right] + sort[i] < target:\n",
    "                left +=1\n",
    "            else:\n",
    "                result.append((sort[left],sort[right], sort[i]))\n",
    "                right -=1 ## important\n",
    "                left +=1\n",
    "    return result\n",
    "a = [-8,-6,1,2,3,5,6,12]\n",
    "print(threeSum(a,0))"
   ]
  },
  {
   "cell_type": "markdown",
   "metadata": {},
   "source": [
    "2. Smallest Difference"
   ]
  },
  {
   "cell_type": "code",
   "execution_count": 8,
   "metadata": {},
   "outputs": [
    {
     "data": {
      "text/plain": [
       "[20, 17]"
      ]
     },
     "execution_count": 8,
     "metadata": {},
     "output_type": "execute_result"
    }
   ],
   "source": [
    "# time O(NlogN+MlogM) space O(1/N+M) ask!\n",
    "def smallDifference(array_1,array_2):\n",
    "    sort_1 = sorted(array_1)\n",
    "    sort_2 = sorted(array_2)\n",
    "    index_1 = 0\n",
    "    index_2 = 0\n",
    "    smallest = float(\"inf\")\n",
    "    smallestPair = []\n",
    "    while index_1 < len(sort_1) and index_1 < len(sort_2): # and not or : 一旦有一个到达最后了 那她就是最大的\n",
    "        # -1  不要！ index_1 < len(sort_1) - 1 and index_2 < len(sort_2) -1 多检查一次，如果-1 就会有最后一个到不了\n",
    "        firstNum = sort_1[index_1]\n",
    "        secondNum = sort_2[index_2]\n",
    "        if firstNum < secondNum:\n",
    "            current = secondNum - firstNum\n",
    "            index_1 += 1\n",
    "        elif secondNum < firstNum:\n",
    "            current = firstNum - secondNum\n",
    "            index_2 += 1\n",
    "        else:\n",
    "            return [firstNum, secondNum]\n",
    "        if smallest > current:\n",
    "            smallest = current\n",
    "            smallestPair = [firstNum, secondNum]\n",
    "    return smallestPair\n",
    "\n",
    "a = [-1,5,10,20,28,3]\n",
    "b = [26,134,135,15,17]\n",
    "smallDifference(a,b)"
   ]
  },
  {
   "cell_type": "markdown",
   "metadata": {},
   "source": [
    "3. move target element to end\n",
    "<br> 从最后开始考虑 >>> \n"
   ]
  },
  {
   "cell_type": "code",
   "execution_count": 11,
   "metadata": {},
   "outputs": [
    {
     "data": {
      "text/plain": [
       "[4, 1, 3, 2, 2, 2, 2, 2]"
      ]
     },
     "execution_count": 11,
     "metadata": {},
     "output_type": "execute_result"
    }
   ],
   "source": [
    "#time O(N) space O(1)\n",
    "def moveEnd(array,target):\n",
    "    i =0\n",
    "    j = len(array) - 1\n",
    "    while i < j:\n",
    "        if array[j] == target:\n",
    "            j-=1\n",
    "        elif array [i] == target:\n",
    "            array[i],array[j]= array[j],array[i]\n",
    "            i+=1\n",
    "            j-=1\n",
    "        else:\n",
    "            i +=1\n",
    "a = [2,1,2,2,2,3,4,2]\n",
    "moveEnd(a,2)\n",
    "a"
   ]
  },
  {
   "cell_type": "markdown",
   "metadata": {},
   "source": [
    "4. Monotonic array\n",
    "\n",
    "* method : \n",
    "find the direction >>> just check the first and last \n",
    "find the direction change!! is a better way just check the adjencent element\n",
    "* method : suppose no-decreasing and no-increasing >>> check the result"
   ]
  },
  {
   "cell_type": "code",
   "execution_count": 12,
   "metadata": {},
   "outputs": [],
   "source": [
    "def isMonotonic1(array):\n",
    "    if len(array) <= 2:\n",
    "        return True\n",
    "    direction = array[1] - array[0]\n",
    "    for i in range(2, len(array)):\n",
    "        if direction == 0:\n",
    "            direction = array[i] - array[i - 1]\n",
    "            continue\n",
    "        if breaksDirection(direction, array[i - 1], array[i]):\n",
    "            return False\n",
    "    return True\n",
    "\n",
    "def breaksDirection(direction, previousInt, currentInt):\n",
    "    difference = currentInt - previousInt\n",
    "    if direction > 0:\n",
    "        return difference < 0\n",
    "    return difference > 0\n",
    "\n",
    "def isMonotonic2(array):\n",
    "    isNonDecreasing = True\n",
    "    isNonIncreasing = True\n",
    "    for i in range(1, len(array)):\n",
    "        if array[i] < array[i - 1]:\n",
    "            isNonDecreasing = False\n",
    "        if array[i] > array[i - 1]:\n",
    "            isNonIncreasing = False\n",
    "    return isNonDecreasing or isNonIncreasing\n",
    "        "
   ]
  },
  {
   "cell_type": "markdown",
   "metadata": {},
   "source": [
    "5. Spiral Traverse\n",
    "<br>!!!! python range(5,4) >>> \\[\\] range(5,4,-1) >>> \\[5\\]\n",
    "* method (self) >>> math depth not good\n",
    "* literative O(n) O(n)\n"
   ]
  },
  {
   "cell_type": "code",
   "execution_count": 21,
   "metadata": {},
   "outputs": [],
   "source": [
    "def spiralTraverse1(array):\n",
    "    result = []\n",
    "    startRow, endRow = 0, len(array) - 1\n",
    "    startCol, endCol = 0, len(array[0]) - 1\n",
    "    while startRow <= endRow and startCol <= endCol:\n",
    "        for col in range(startCol, endCol + 1):\n",
    "            result.append(array[startRow][col])\n",
    "        for row in range(startRow + 1, endRow + 1):\n",
    "            result.append(array[row][endCol])\n",
    "        for col in reversed(range(startCol, endCol)):\n",
    "            if startRow == endRow:\n",
    "                break\n",
    "            result.append(array[endRow][col])\n",
    "        for row in reversed(range(startRow + 1, endRow)):\n",
    "            if startCol == endCol:\n",
    "                break\n",
    "            result.append(array[row][startCol])\n",
    "    startRow += 1\n",
    "    endRow -= 1\n",
    "    startCol += 1\n",
    "    endCol -= 1\n",
    "    return result\n",
    "def spiralTraverse2(array):\n",
    "    result = []\n",
    "    spiralFill(array, 0, len(array) - 1, 0, len(array[0]) - 1, result)\n",
    "    return result\n",
    "def spiralFill(array, startRow, endRow, startCol, endCol, result):\n",
    "    if startRow > endRow or startCol > endCol:\n",
    "        return\n",
    "    for col in range(startCol, endCol + 1):\n",
    "        result.append(array[startRow][col])\n",
    "    for row in range(startRow + 1, endRow + 1):\n",
    "        result.append(array[row][endCol])\n",
    "    for col in reversed(range(startCol, endCol)):\n",
    "        if startRow == endRow:\n",
    "            break\n",
    "        result.append(array[endRow][col])\n",
    "    for row in reversed(range(startRow + 1, endRow)):\n",
    "        if startCol == endCol:\n",
    "        break\n",
    "        result.append(array[row][startCol])\n",
    "    spiralFill(array, startRow + 1, endRow - 1, startCol + 1, endCol - 1, result)"
   ]
  },
  {
   "cell_type": "markdown",
   "metadata": {},
   "source": [
    "6. longest peak\n",
    "* method : find the peak fist  and find the longest one\n",
    "* method : do them cocurrently (better)\n"
   ]
  },
  {
   "cell_type": "code",
   "execution_count": 27,
   "metadata": {},
   "outputs": [
    {
     "data": {
      "text/plain": [
       "6"
      ]
     },
     "execution_count": 27,
     "metadata": {},
     "output_type": "execute_result"
    }
   ],
   "source": [
    "def longestPeak12(array):\n",
    "    longest = 0\n",
    "    peakIdex = []\n",
    "    #find the peak first\n",
    "    for i in range(1,len(array)-1):\n",
    "        if array[i] > array[1+i] and array[i] > array[i-1]:\n",
    "            peakIdex.append(i)\n",
    "    # find the length for each\n",
    "    for index in peakIdex:\n",
    "        left_index = index-1\n",
    "        right_index = index+1\n",
    "        while array[right_index] > array[right_index+1]:\n",
    "            right_index +=1\n",
    "        while array[left_index] < array[left_index-1]:\n",
    "            left_index -=1\n",
    "        longest = max(longest,right_index-left_index)\n",
    "    return longest\n",
    "def longestPeak2(array):\n",
    "    longestPeakLength = 0\n",
    "    i = 1\n",
    "    while i < len(array) - 1:\n",
    "        isPeak = array[i - 1] < array[i] and array[i] > array[i + 1]\n",
    "        if not isPeak: \n",
    "            i += 1\n",
    "            continue \n",
    "        leftIdx = i - 2\n",
    "        while leftIdx >= 0 and array[leftIdx] < array[leftIdx + 1]:\n",
    "            leftIdx -= 1\n",
    "        rightIdx = i + 2\n",
    "        while rightIdx < len(array) and array[rightIdx] < array[rightIdx - 1]:\n",
    "            rightIdx += 1\n",
    "        currentPeakLength = rightIdx - leftIdx - 1\n",
    "        longestPeakLength = max(longestPeakLength, currentPeakLength)\n",
    "        i = rightIdx\n",
    "    return longestPeakLength\n",
    "            \n",
    "            \n",
    "a = [1,2,3,3,4,0,10,6,5,-1,-3,2,3]\n",
    "longestPeak2(a)"
   ]
  },
  {
   "cell_type": "markdown",
   "metadata": {},
   "source": [
    "7. binary search Tree(BST)\n",
    "\n"
   ]
  },
  {
   "cell_type": "code",
   "execution_count": 1,
   "metadata": {},
   "outputs": [],
   "source": [
    "class BST:\n",
    "    def __init__(self, value):\n",
    "        self.value = value\n",
    "        self.left = None\n",
    "        self.right = None\n",
    "    # Average: O(log(n)) time | O(log(n)) space\n",
    "    # Worst: O(n) time | O(n) space\n",
    "    def insert(self, value):\n",
    "        if value < self.value:\n",
    "            if self.left is None:\n",
    "                self.left = BST(value)\n",
    "            else:\n",
    "                self.left.insert(value)\n",
    "        else:\n",
    "            if self.right is None:\n",
    "                self.right = BST(value)\n",
    "            else:\n",
    "                self.right.insert(value)\n",
    "        return self\n",
    "    # Average: O(log(n)) time | O(log(n)) space\n",
    "    # Worst: O(n) time | O(n) space\n",
    "    def contains(self, value):\n",
    "        if value < self.value:\n",
    "            if self.left is None:\n",
    "                return False\n",
    "            else:\n",
    "                return self.left.contains(value)\n",
    "        elif value > self.value:\n",
    "            if self.right is None:\n",
    "                return False\n",
    "            else:\n",
    "                return self.right.contains(value)\n",
    "        else:\n",
    "            return True\n",
    "    # Average: O(log(n)) time | O(log(n)) space >>> could change to O(1) literative \n",
    "    # Worst: O(n) time | O(n) space\n",
    "    def remove(self, value, parent=None):\n",
    "        if value < self.value:\n",
    "            if self.left is not None:\n",
    "                self.left.remove(value, self)\n",
    "        elif value > self.value:\n",
    "            if self.right is not None:\n",
    "                self.right.remove(value, self)\n",
    "            else:\n",
    "                if self.left is not None and self.right is not None:\n",
    "                    self.value = self.right.getMinValue()\n",
    "                    self.right.remove(self.value, self)\n",
    "                elif parent is None:\n",
    "                    if self.left is not None:\n",
    "                        self.value = self.left.value\n",
    "                        self.right = self.left.right\n",
    "                        self.left = self.left.left\n",
    "                    elif self.right is not None:\n",
    "                        self.value = self.right.value\n",
    "                        self.left = self.right.left\n",
    "                        self.right = self.right.right\n",
    "                    else:\n",
    "                        # This is a single-node tree; do nothing.\n",
    "                        pass\n",
    "                elif parent.left == self:\n",
    "                    parent.left = self.left if self.left is not None else self.right\n",
    "                elif parent.right == self:\n",
    "                    parent.right = self.left if self.left is not None else self.right\n",
    "        return self\n"
   ]
  },
  {
   "cell_type": "code",
   "execution_count": 48,
   "metadata": {},
   "outputs": [],
   "source": [
    "class BST:\n",
    "    def __init__(self, value):\n",
    "        self.value = value\n",
    "        self.left = None\n",
    "        self.right = None\n",
    "    def insert(self,value):\n",
    "        currentNode = self\n",
    "        while True:\n",
    "            if value < currentNode.value:             \n",
    "                if currentNode.left is None:\n",
    "                    currentNode.left = BST(value)\n",
    "                    break\n",
    "                else:\n",
    "                    currentNode = currentNode.left\n",
    "            else:\n",
    "                if currentNode.right is None:\n",
    "                    currentNode.right = BST(value)\n",
    "                    break\n",
    "                else:\n",
    "                    currentNode = currentNode.right\n",
    "    def contain(self,value):\n",
    "        currentNode = self\n",
    "        while True:\n",
    "            if currentNode is None:\n",
    "                break\n",
    "            if value < currentNode.value: \n",
    "                currentNode = currentNode.left\n",
    "            elif value > currentNode.value:\n",
    "                currentNode = currentNode.right\n",
    "            else:\n",
    "                return True\n",
    "        return False\n",
    "    def remove(self,value,parentNode = None):\n",
    "        currentNode = self\n",
    "        while currentNode is not None:# use parent node store the location\n",
    "            if value < currentNode.value:\n",
    "                parentNode = currentNode\n",
    "                currentNode = currentNode.left\n",
    "            elif value > currentNode.value:\n",
    "                parentNode = currentNode\n",
    "                currentNode = currentNode.right\n",
    "            else:\n",
    "                if currentNode.right is not None and currentNode.left is not None:\n",
    "                    currentNode.value = currentNode.right.getMinValue()\n",
    "                    currentNode.right.remove(currentNode.value,currentNode.right)\n",
    "                elif parentNode is None: # first time hint and one side is None\n",
    "                    if currentNode.left is not None:\n",
    "                        currentNode.value = currentNode.left.value\n",
    "                        currentNode.right = currentNode.left.right\n",
    "                        currentNode.left = currentNode.left.left\n",
    "                    elif currentNode.right is not None:\n",
    "                        currentNode.value = currentNode.right.value\n",
    "                        currentNode.left = currentNode.right.left\n",
    "                        currentNode.right = currentNode.right.right\n",
    "                    else:\n",
    "                        currentNode = None\n",
    "                elif parentNode.left == currentNode: # not fist time hint and one side is None\n",
    "                    parentNode.left = currentNode.left if currentNode.left is not None else currentNode.right\n",
    "                elif parentNode.right == currentNode:\n",
    "                    parentNode.right = currentNode.right if currentNode.righ is not None else currentNode.left\n",
    "                break # find the value\n",
    "        \n",
    "    def getMinValue(self):\n",
    "        currentNode = self\n",
    "        while currentNode is not None:\n",
    "            currentNode = currentNode.left\n",
    "        return currentNode.value\n",
    "        \n",
    "        "
   ]
  },
  {
   "cell_type": "markdown",
   "metadata": {},
   "source": [
    "8. validate BST\n",
    "<br> recursion Thought, helper coulde rember the min and max for every sub tree \n"
   ]
  },
  {
   "cell_type": "code",
   "execution_count": 6,
   "metadata": {},
   "outputs": [
    {
     "data": {
      "text/plain": [
       "True"
      ]
     },
     "execution_count": 6,
     "metadata": {},
     "output_type": "execute_result"
    }
   ],
   "source": [
    "def validateBST(tree):\n",
    "    return validateHelper(tree,float(\"-inf\"),float(\"inf\"))\n",
    "def validateHelper(tree,minValue,maxValue):\n",
    "    if tree is None:\n",
    "        return True\n",
    "    if tree.value >= maxValue and tree.value < minValue:\n",
    "        return False\n",
    "    return validateHelper(tree.left,minValue,tree.value) and validateHelper(tree.right,tree.value,maxValue)\n",
    "validateBST(root)"
   ]
  },
  {
   "cell_type": "markdown",
   "metadata": {},
   "source": [
    "9. BST traversal\n",
    "    * in-order: \\[min -> max\\] \\[1,2,5,5,10,15,22\\]\n",
    "    * pre-order: \\[10,5,2,1,5,15,22\\]\n",
    "    * post-order: \\[1,2,5,5,22,15,10\\]"
   ]
  },
  {
   "cell_type": "code",
   "execution_count": 56,
   "metadata": {},
   "outputs": [],
   "source": [
    "\"\"\"\n",
    "        10\n",
    "       /  \\\n",
    "      5    15\n",
    "     / \\    \\\n",
    "    2   5   22\n",
    "   /\n",
    "  1\n",
    "\"\"\"\n",
    "def inOrder(tree,array):\n",
    "    # first node in the middel\n",
    "    if tree is not None:\n",
    "        inOrder(tree.left,array)\n",
    "        array.append(tree.value)\n",
    "        inOrder(tree.right,array)\n",
    "    return array\n",
    "def preOrder(tree,array):\n",
    "    # first node in the first\n",
    "    if tree is not None:\n",
    "        array.append(tree.value)\n",
    "        preOrder(tree.left,array)\n",
    "        preOrder(tree.right,array)\n",
    "    return array\n",
    "def postOrder(tree,array):\n",
    "    # first node in the end\n",
    "    if tree is not None:\n",
    "        postOrder(tree.left,array)\n",
    "        postOrder(tree.right,array)\n",
    "        array.append(tree.value)\n",
    "    return array\n",
    "# test\n",
    "root = BST(10)\n",
    "root.insert(5)\n",
    "root.insert(15)\n",
    "root.insert(22)\n",
    "root.insert(2)\n",
    "root.insert(5)\n",
    "root.insert(1)\n",
    "\n",
    "array = []\n",
    "# print(inOrder(root))\n",
    "# print(preOrder(root))\n",
    "# print(postOrder(root))\n"
   ]
  },
  {
   "cell_type": "markdown",
   "metadata": {},
   "source": [
    "10. min-higth of BST\n",
    "<br> given and distant array"
   ]
  },
  {
   "cell_type": "code",
   "execution_count": 40,
   "metadata": {},
   "outputs": [
    {
     "name": "stdout",
     "output_type": "stream",
     "text": [
      "[1, 2, 5, 7, 10, 13, 14, 15, 22]\n"
     ]
    }
   ],
   "source": [
    "# def minHightBST(array):\n",
    "#     array = sorted(array)\n",
    "#     return minHightBSTHelper(array,None,0,len(array)-1)\n",
    "# def minHightBSTHelper(array,bst,startidx,endidx):\n",
    "#     if startidx > endidx:\n",
    "#         return\n",
    "#     mid = (startidx+endidx)//2\n",
    "#     value = array[mid]\n",
    "#     if bst is None:\n",
    "#         bst = BST(value)\n",
    "#     else:\n",
    "#         print(value,mid,bst.value)\n",
    "#         bst.insert(value)\n",
    "#     minHightBSTHelper(array,bst,startidx,mid-1)\n",
    "#     minHightBSTHelper(array,bst,mid+1,endidx)\n",
    "#     return bst\n",
    "\n",
    "def minHightBST(array):\n",
    "    array = sorted(array)\n",
    "    return minHightBSTHelper(array,0,len(array)-1)\n",
    "def minHightBSTHelper(array,startidx,endidx):\n",
    "    if startidx > endidx:\n",
    "        return\n",
    "    mid = (startidx+endidx)//2\n",
    "    value = array[mid]\n",
    "    bst = BST(value)\n",
    "    bst.left = minHightBSTHelper(array,startidx,mid-1)\n",
    "    bst.right =minHightBSTHelper(array,mid+1,endidx)\n",
    "    return bst\n",
    "# test\n",
    "array = [1,2,5,7,10,13,14,15,22]\n",
    "tree = minHightBST(array)\n",
    "returna = []\n",
    "inOrder(tree,returna)\n",
    "print(returna)"
   ]
  },
  {
   "cell_type": "markdown",
   "metadata": {},
   "source": [
    "11. invert Binary tree<br>\n",
    "from left min, right max to left max right min\n",
    "   * thought :  queue to store and swap in order\n",
    "   "
   ]
  },
  {
   "cell_type": "code",
   "execution_count": 58,
   "metadata": {},
   "outputs": [
    {
     "name": "stdout",
     "output_type": "stream",
     "text": [
      "[1, 2, 5, 5, 10, 15, 22]\n"
     ]
    }
   ],
   "source": [
    "#time O(N) sapce O(N)\n",
    "def invertBinaryTree(tree):\n",
    "    queue = []\n",
    "    queue.append(tree)\n",
    "    invertBinaryTreeHelper(queue)\n",
    "def invertBinaryTreeHelper(queue):\n",
    "    if len(queue) == 0:\n",
    "        return\n",
    "    tree = queue.pop(0)\n",
    "    if tree is None:\n",
    "        return\n",
    "    else:\n",
    "        # first exchange then qppend() becasue we want the order keep same left >> right\n",
    "        temp = tree.left\n",
    "        tree.left = tree.right\n",
    "        tree.right = temp\n",
    "        queue.append(tree.left)\n",
    "        queue.append(tree.right)\n",
    "        invertBinaryTreeHelper(queue)\n",
    "        \n",
    "        \n",
    "def invertBinaryTree_liter(tree):\n",
    "    queue = [tree]\n",
    "    while len(queue) !=0:\n",
    "        current = queue.pop(0)\n",
    "        if current is None:\n",
    "            continue\n",
    "        current.left,current.right= current.right, current.left\n",
    "        queue.append(current.left)\n",
    "        queue.append(current.right)\n",
    "    \n",
    "invertBinaryTree_liter(root)\n",
    "invertBinaryTree(root)\n",
    "x = []\n",
    "inOrder(root,x)\n",
    "print(x)"
   ]
  },
  {
   "cell_type": "markdown",
   "metadata": {},
   "source": [
    "12. max subset sum  NO Adjacent\n",
    "    * DP(i) = max(DP(i-1),DP(i-2)+array\\[i\\] )"
   ]
  },
  {
   "cell_type": "code",
   "execution_count": 68,
   "metadata": {},
   "outputs": [
    {
     "name": "stdout",
     "output_type": "stream",
     "text": [
      "33\n"
     ]
    }
   ],
   "source": [
    "#time O(N) space O(N)>>>space O(1)\n",
    "def maxSubSum1(array):\n",
    "    DP_dic = [array[0],array[1]]\n",
    "    for i in range(2,len(array)):\n",
    "        DP_dic.append(max(DP_dic[i-1],DP_dic[i-2]+array[i]))\n",
    "    return max(DP_dic)\n",
    "def maxSubSum2(array):\n",
    "    first = max(array[0:2])\n",
    "    second = array[0]\n",
    "    \n",
    "    for i in range(2,len(array)):\n",
    "        current = max(first,second + array[i])\n",
    "        second = first ## this line is first\n",
    "        first = current   \n",
    "    return current\n",
    "# test\n",
    "array = [7,10,12,7,9,14]\n",
    "print(maxSubSum2(array))"
   ]
  },
  {
   "cell_type": "markdown",
   "metadata": {},
   "source": [
    "13. Number of Way to make exchange\n",
    "<br> input: \\[possible change\\] , amount<br>\n",
    "    * DP(i) = DP(i) + for{DP\\[i-j\\]} j in possbile change\n",
    "                    4    <br>\n",
    "          2 2 2 2 2 3   <br>\n",
    "1 1 1 1 1 1 1 1 1 1 1   <br>\n",
    "0 1 2 3 4 5 6 7 8 9 10  \n",
    "<br> 比零钱多，原本的可能性 + 新来的可能性 比零钱少，不干"
   ]
  },
  {
   "cell_type": "code",
   "execution_count": 84,
   "metadata": {},
   "outputs": [
    {
     "name": "stdout",
     "output_type": "stream",
     "text": [
      "[1, 1, 1, 1, 1, 1, 1, 1, 1, 1, 1]\n",
      "[1, 1, 1, 1, 1, 2, 2, 2, 2, 2, 3]\n",
      "[1, 1, 1, 1, 1, 2, 2, 2, 2, 2, 4]\n",
      "[1, 1, 1, 1, 1, 2, 2, 2, 2, 2, 4]\n",
      "4\n"
     ]
    }
   ],
   "source": [
    "# space O(N) time: O(N*array)\n",
    "def numberOfchange(amount,array):\n",
    "    ways = [0 for i in range(amount+1)]\n",
    "    ways[0] = 1\n",
    "    for change in array:\n",
    "        for j in range(amount+1):\n",
    "            if change <= j:\n",
    "                ways[j] = ways[j] + ways[j-change]\n",
    "        print(ways)\n",
    "    return ways[-1]\n",
    "#test\n",
    "array = [1,5,10,20]\n",
    "print(numberOfchange(10,array))"
   ]
  },
  {
   "cell_type": "markdown",
   "metadata": {},
   "source": [
    "14. min number of coin for change<br>\n",
    "input : target amount, possible coins\n",
    "    * DP(i) = min(\\[i- for j  in target amount\\]) \n"
   ]
  },
  {
   "cell_type": "code",
   "execution_count": 106,
   "metadata": {},
   "outputs": [
    {
     "name": "stdout",
     "output_type": "stream",
     "text": [
      "-1\n"
     ]
    }
   ],
   "source": [
    "# space is not certain >> go through all possible combination\n",
    "# time O(Nd) space O(max(N,d))\n",
    "def minNumCoin_my(amount,array):\n",
    "    represent = [0 for i in range(amount+1)]\n",
    "    for i in range(1,len(represent)):\n",
    "#         steplist = []\n",
    "#         for coin in array:\n",
    "#             if i - coin >=0:\n",
    "#                 steplist.append(represent[i-coin] + represent[coin])\n",
    "#         if len(steplist)!=0:\n",
    "#             represent[i] = min(steplist)\n",
    "        steplist = [represent[i - coin] + represent[coin] for coin in array if i - coin >0 ] # all passible combinenation \n",
    "        if i in array: \n",
    "            steplist.append(1)\n",
    "        represent[i] = min(steplist)\n",
    "        print(represent)\n",
    "    return represent[-1]\n",
    "# time O(Nd) space O(N)\n",
    "def minNumCoin(amount,array):\n",
    "    represent = [float(\"inf\") for i in range(amount+1)]\n",
    "    represent[0] = 0\n",
    "    for coin in array:\n",
    "        for index,value in enumerate (represent):\n",
    "            if index >= coin:\n",
    "                represent[index] = min(represent[index],represent[index-coin] + 1) ##\n",
    "                #print(represent)\n",
    "    return represent[amount] if represent[amount]!= float(\"inf\") else -1\n",
    "                \n",
    "print(minNumCoin(7,[2,4]))"
   ]
  },
  {
   "cell_type": "markdown",
   "metadata": {},
   "source": [
    "15. levenshtein distance\n",
    "<br> question: how may step to make a str1 to str2 (delet subsitude inseart)\n",
    "   * DP(i) =  min(triangle) +1 >>>DP 从小问题 到大问题\n",
    "   * time O(MN) space O(min(M,N))"
   ]
  },
  {
   "cell_type": "code",
   "execution_count": 119,
   "metadata": {},
   "outputs": [
    {
     "data": {
      "text/plain": [
       "2"
      ]
     },
     "execution_count": 119,
     "metadata": {},
     "output_type": "execute_result"
    }
   ],
   "source": [
    "def levenshteinDistance1(str1,str2):\n",
    "    table = [ [j for j in range(len(str1)+1)] for i in range(len(str2)+1) ]\n",
    "    for i in range(len(str2)+1):\n",
    "        table[i][0] = i\n",
    "\n",
    "    for row in range(len(str2)):\n",
    "        for col in range(len(str1)):\n",
    "            if str2[row] == str1[col]:\n",
    "                table[row+1][col+1] = table[row][col]\n",
    "            else:\n",
    "                table[row+1][col+1] = min(table[row][col],table[row][col+1],table[row+1][col])+1\n",
    "    return table[-1][-1]\n",
    "# time O(MN) space O(min(M,N))\n",
    "def levenshteinDistance2(str1,str2):\n",
    "    small = str1 if len(str1) < len(str2) else str2\n",
    "    big = str1 if len(str1) >= len(str2) else str2\n",
    "    evenEdits = [x for x in range(len(small) + 1)]\n",
    "    oddEdits = [None for x in range(len(small) + 1)]\n",
    "    for i in range(1, len(big) + 1):\n",
    "        if i % 2 == 1:\n",
    "            currentEdits = oddEdits\n",
    "            previousEdits = evenEdits\n",
    "        else:\n",
    "            currentEdits = evenEdits\n",
    "            previousEdits = oddEdits\n",
    "        currentEdits[0] = i\n",
    "        for j in range(1, len(small) + 1):\n",
    "            if big[i - 1] == small[j - 1]:\n",
    "                currentEdits[j] = previousEdits[j - 1]\n",
    "            else:\n",
    "                currentEdits[j] = 1 + min(previousEdits[j - 1], previousEdits[j], currentEdits[j-1])\n",
    "    return evenEdits[-1] if len(big) % 2 == 0 else oddEdits[-1]\n",
    "\n",
    "levenshteinDistance2(\"abc\",\"yabd\")           \n"
   ]
  },
  {
   "cell_type": "markdown",
   "metadata": {},
   "source": [
    "16.Kadane's Algorithm >> find the max sum in subsequence\n",
    "<br> given array has postive and negative \n",
    "    * thought >>> start and end not sure >>> previous is usefull and coulde be aboundon if sum is < current 如果之前的值会不如现在的就不要了 "
   ]
  },
  {
   "cell_type": "code",
   "execution_count": 123,
   "metadata": {},
   "outputs": [
    {
     "data": {
      "text/plain": [
       "19"
      ]
     },
     "execution_count": 123,
     "metadata": {},
     "output_type": "execute_result"
    }
   ],
   "source": [
    "def KandaneSum(array):\n",
    "    maxEnd = array[0]\n",
    "    maxSofar = array[0]\n",
    "    for i in range(1,len(array)):\n",
    "        maxEnd = max(array[i],maxEnd+array[i])\n",
    "        maxSofar = max(maxSofar,maxEnd)\n",
    "    return maxSofar\n",
    "a = [3,5,-9,1,3,-2,3,4,7,2,-9,6,3,1,-5,4] \n",
    "KandaneSum(a)       "
   ]
  },
  {
   "cell_type": "markdown",
   "metadata": {},
   "source": [
    "17. Single Cycle check\n",
    "<br> use the number of element visted instead of the whole array"
   ]
  },
  {
   "cell_type": "code",
   "execution_count": 140,
   "metadata": {},
   "outputs": [
    {
     "name": "stdout",
     "output_type": "stream",
     "text": [
      "False False True True\n"
     ]
    }
   ],
   "source": [
    "#O(n) time | O(1) space \n",
    "def singleCycle(array):\n",
    "    checklist = [0 for _ in range(len(array)) ]\n",
    "    currentIdx = 0\n",
    "    while checklist[currentIdx] == 0:\n",
    "        checklist[currentIdx]+=1\n",
    "        currentIdx += array[currentIdx]\n",
    "        currentIdx %=len(array)\n",
    "    for i in checklist:\n",
    "        if i != 1:\n",
    "            return False\n",
    "    return True\n",
    "\n",
    "# O(n) time  O(1) space \n",
    "def hasSingleCycle(array):\n",
    "    numElementsVisited = 0\n",
    "    currentIdx = 0\n",
    "    while numElementsVisited < len(array):\n",
    "        if numElementsVisited > 0 and currentIdx == 0:\n",
    "            return False\n",
    "        numElementsVisited += 1\n",
    "        currentIdx = getNextIdx(currentIdx, array)\n",
    "    return currentIdx == 0\n",
    "def getNextIdx(currentIdx, array):\n",
    "    jump = array[currentIdx]\n",
    "    nextIdx = (currentIdx + jump) % len(array)\n",
    "    return nextIdx if nextIdx >= 0 else nextIdx + len(array)\n",
    "\n",
    "\n",
    "a = [2,-1,1,2,2]\n",
    "b = [2,3,1,-4,-4,2]\n",
    "print(singleCycle(a),hasSingleCycle(a),singleCycle(b),hasSingleCycle(b))\n",
    "        "
   ]
  },
  {
   "cell_type": "markdown",
   "metadata": {},
   "source": [
    "18. BFS breath first search\n",
    "<br>queue >>> first in first out<br>\n",
    "18*. DFS\n",
    "<br> stack >>> first in last out"
   ]
  },
  {
   "cell_type": "code",
   "execution_count": 143,
   "metadata": {},
   "outputs": [],
   "source": [
    "class Node:\n",
    "    def __init__(self, name):\n",
    "        self.name = name\n",
    "        self.children = []\n",
    "    def addChild(self, name):\n",
    "        self.children.append(Node(name))\n",
    "        return self\n",
    "    # O(v + e) time | O(v) space\n",
    "    def breadthFirstSearch(self, array):\n",
    "        queue = [self]\n",
    "        while len(queue) > 0:\n",
    "            current = queue.pop(0)\n",
    "            array.append(current.name)\n",
    "            for child in current.children:\n",
    "                queue.append(child)\n",
    "        return array"
   ]
  },
  {
   "cell_type": "markdown",
   "metadata": {},
   "source": [
    "19. river size\n",
    "<br> given: matrix >>> find all river length\n"
   ]
  },
  {
   "cell_type": "code",
   "execution_count": 146,
   "metadata": {},
   "outputs": [
    {
     "data": {
      "text/plain": [
       "[2, 1, 5, 2, 2]"
      ]
     },
     "execution_count": 146,
     "metadata": {},
     "output_type": "execute_result"
    }
   ],
   "source": [
    "# O(wh) time | O(wh) space\n",
    "def riverSizes(matrix):\n",
    "    sizes = []\n",
    "    visited = [[False for value in row] for row in matrix]\n",
    "    for i in range(len(matrix)):\n",
    "        for j in range(len(matrix[i])):\n",
    "            if visited[i][j]:\n",
    "                continue\n",
    "            traverseNode(i, j, matrix, visited, sizes)\n",
    "    return sizes\n",
    "\n",
    "def traverseNode(i, j, matrix, visited, sizes):\n",
    "    currentRiverSize = 0\n",
    "    nodesToExplore = [[i, j]]\n",
    "    while len(nodesToExplore):\n",
    "        currentNode = nodesToExplore.pop()\n",
    "        i = currentNode[0]\n",
    "        j = currentNode[1]\n",
    "        if visited[i][j]:\n",
    "            continue\n",
    "        visited[i][j] = True\n",
    "        if matrix[i][j] == 0:\n",
    "            continue\n",
    "        currentRiverSize += 1\n",
    "        unvisitedNeighbors = getUnvisitedNeighbors(i, j, matrix, visited)\n",
    "        for neighbor in unvisitedNeighbors:\n",
    "            nodesToExplore.append(neighbor)\n",
    "    if currentRiverSize > 0:\n",
    "        sizes.append(currentRiverSize)\n",
    "def getUnvisitedNeighbors(i, j, matrix, visited):\n",
    "    unvisitedNeighbors = []\n",
    "    if i > 0 and not visited[i - 1][j]:\n",
    "        unvisitedNeighbors.append([i - 1, j])\n",
    "    if i < len(matrix) - 1 and not visited[i + 1][j]:\n",
    "        unvisitedNeighbors.append([i + 1, j])\n",
    "    if j > 0 and not visited[i][j - 1]:\n",
    "        unvisitedNeighbors.append([i, j - 1])\n",
    "    if j < len(matrix[0]) - 1 and not visited[i][j + 1]:\n",
    "        unvisitedNeighbors.append([i, j + 1])\n",
    "    return unvisitedNeighbors\n",
    "A = [\n",
    "    [1,0,0,1,0],\n",
    "    [1,0,1,0,0],\n",
    "    [0,0,1,0,1],\n",
    "    [1,0,1,0,1],\n",
    "    [1,0,1,1,0],\n",
    "]\n",
    "riverSizes(A)"
   ]
  },
  {
   "cell_type": "markdown",
   "metadata": {},
   "source": [
    "20. yougest conmmon ancestor\n",
    "同共同的组长 lower of <br>\n",
    "key ： 让祖先同level >> DFS<br>\n",
    "input: root of tree, descent 1 descent 2"
   ]
  },
  {
   "cell_type": "code",
   "execution_count": 149,
   "metadata": {},
   "outputs": [],
   "source": [
    "class AncestralTree:\n",
    "    def __init__(self, name):\n",
    "        self.name = name\n",
    "        self.ancestor = None# 数据结构决定更好的算法\n",
    "# O(d) time | O(1) space - where d is the depth (height) of the ancestral tree\n",
    "    def getYoungestCommonAncestor(topAncestor, descendantOne, descendantTwo):\n",
    "        # get the depth\n",
    "        depthOne = getDescendantDepth(descendantOne, topAncestor)\n",
    "        depthTwo = getDescendantDepth(descendantTwo, topAncestor)\n",
    "        # let the child be in the same level\n",
    "        if depthOne > depthTwo:\n",
    "            return backtrackAncestralTree(descendantOne, descendantTwo, depthOne - depthTwo)\n",
    "        else:\n",
    "            return backtrackAncestralTree(descendantTwo, descendantOne, depthTwo - depthTwo)\n",
    "    def getDescendantDepth(descendant, topAncestor):\n",
    "        depth = 0\n",
    "        while descendant != topAncestor:\n",
    "            depth += 1\n",
    "            descendant = descendant.ancestor\n",
    "            return depth\n",
    "    def backtrackAncestralTree(lowerDescendant, higherDescendant, diff):\n",
    "        while diff > 0:\n",
    "            lowerDescendant = lowerDescendant.ancestor\n",
    "            diff -= 1\n",
    "        while lowerDescendant != higherDescendant:\n",
    "            lowerDescendant = lowerDescendant.ancestor\n",
    "            higherDescendant = higherDescendant.ancestor\n",
    "        return lowerDescendant"
   ]
  },
  {
   "cell_type": "markdown",
   "metadata": {},
   "source": [
    "21. minHeap<br>\n",
    "最小堆，是一种经过排序的完全二叉树，其中任一非终端节点的数据值均不大于其左子节点和右子节点的值\n",
    "  * 数组来实现二叉树，所以满足二叉树的特性。\n",
    "  * 根元素是最小的元素，父节点小于它的两个子节点。\n",
    "  * 树中的元素是相对有序的。\n",
    "  * __key__ :关系： 父： 2i+1,2i+2，子：i-1/2<br>\n",
    "notice: relationship with the heap sort\n",
    "  \n",
    "  \n",
    "notice：<br>\n",
    "堆排序的时间复杂度是O(nlgN)，与快速排序达到相同的时间复杂度。但是在实际应用中，我们往往采用快速排序而不是堆排序。<br>\n",
    "这是因为快速排序的一个好的实现，往往比堆排序具有更好的表现。堆排序的主要用途，是在形成和处理优先级队列方面。<br>另外，如果计算要求是类优先级队列（比如，只要返回最大或者最小元素，只有有限的插入要求等），堆同样是很适合的数据结构。"
   ]
  },
  {
   "cell_type": "code",
   "execution_count": 18,
   "metadata": {},
   "outputs": [
    {
     "name": "stdout",
     "output_type": "stream",
     "text": [
      "True\n"
     ]
    }
   ],
   "source": [
    "class MinHeap:\n",
    "    def __init__(self, array):\n",
    "    # Do not edit the line below.\n",
    "        self.heap = self.buildHeap(array.copy())\n",
    "    # O(N) | O(1) !!!!!remember\n",
    "    def buildHeap(self, array):\n",
    "    # start form the first parent node >> continute shitDown >>> make sure every parent node is correct\n",
    "    # shitUP is not good because need to make every chidnode shif up to make sure , parent is less than the child\n",
    "        firstParentIndex = len(array)//2 -1\n",
    "        for i in reversed(range(firstParentIndex)):\n",
    "            self.shiftDown(i,array,len(array)-1)\n",
    "        return array\n",
    "    # O(logN)|O(1)\n",
    "    def shiftDown(self,currentIdex,heap,endIdex):# 有一点不一样 要同时考虑两个子节点 >> pick the smallest \n",
    "        child_left = currentIdex*2 + 1\n",
    "        while child_left <= endIdex:\n",
    "            #确定跟谁换\n",
    "            child_right = currentIdex*2 + 2 if currentIdex*2 + 2 <endIdex else -1\n",
    "            if child_right != -1 and heap[child_left] >= heap[child_right]:\n",
    "                indexToChange = child_right\n",
    "            else:\n",
    "                indexToChange = child_left\n",
    "            # 还要确定要不要换\n",
    "            if heap[currentIdex] > heap[indexToChange]:\n",
    "                self.swap(currentIdex,indexToChange,heap)\n",
    "                currentIdex = indexToChange\n",
    "                child_left = currentIdex*2 + 1\n",
    "            else:\n",
    "                break\n",
    "        \n",
    "    # O(logN)|  O(1)\n",
    "    def shiftUp(self,currentIdex,heap):\n",
    "        parent_idex = (currentIdex-1)//2\n",
    "        while heap[currentIdex] >= heap[parent_idex] and currentIdex >0:\n",
    "            swap(parent_idex,currentIdex,heap)\n",
    "            currentIdex = parent_idex \n",
    "            parent_idex = int(currentIdex//2)\n",
    "    def peek(self):\n",
    "        return self.heap[0]\n",
    "    #    \n",
    "    def remove(self):\n",
    "        # 只有最后一个不对劲\n",
    "        self.swap(0,len(self.heap)-1,self.heap)\n",
    "        valueToremove = self.heap.pop() # last one we swap \n",
    "        self.shiftDown(0,self.heap,len(self.heap)-1)\n",
    "        return valueToremove\n",
    "    def insert(self, value):\n",
    "        self.heap.append(value)\n",
    "        self.shiftUp(len(self.heap)-1)\n",
    "    def swap(self,index1,index2,array):\n",
    "        array[index1],array[index2] = array[index2],array[index1]\n",
    "# little tips: python wiil run a little bit fast if pass the value instead of using the self.value\n",
    "a = [8,12,23,17,31,30,44,102,18]\n",
    "res = []\n",
    "minHeap = MinHeap(a)\n",
    "for i in range(len(a)):\n",
    "    x = minHeap.remove()\n",
    "    res.append(x)\n",
    "print(sorted(a)==res)"
   ]
  },
  {
   "cell_type": "markdown",
   "metadata": {},
   "source": [
    "22. remove the nth node for then end<br>\n",
    "given : head(of link list) <br>\n",
    "note: !!!__link list >>> dubule pointer__"
   ]
  },
  {
   "cell_type": "code",
   "execution_count": 20,
   "metadata": {},
   "outputs": [],
   "source": [
    "class Node:\n",
    "    def __init__(self,value,node_after):\n",
    "        self.value = value\n",
    "        self.next = node_after\n",
    "class Linklist():\n",
    "    def __init__(self,head):\n",
    "        self.head = head\n",
    "    def __repr__(self):\n",
    "        node = self.head\n",
    "        string = \"\"\n",
    "        while node != None:\n",
    "            string = string + str(node.value) + \"<->\"\n",
    "            node = node.next\n",
    "        return string[:-3]\n",
    "    def gethead(self):\n",
    "        return self.head\n",
    "    def reverse(self):\n",
    "        node = self.head\n",
    "        befoe = self.head\n",
    "        while node is not None:\n",
    "            tmp = node.next\n",
    "            if node == self.head:\n",
    "                node.next = None\n",
    "            else:\n",
    "                node.next = before\n",
    "            before = node\n",
    "            node = tmp\n",
    "        return Linklist(brefore)\n",
    "    def n_thNode(n): # not good\n",
    "        reverseLinkList = self.reverse()\n",
    "        node = reverseLinkList.gethead()\n",
    "        for i in range(n):\n",
    "            node = node.next\n",
    "        return node.value\n",
    "\n",
    "def removeKthNodeFromEnd(head, k):\n",
    "    counter = 1\n",
    "    first = head\n",
    "    second = head\n",
    "    while counter <= k:\n",
    "        second = second.next\n",
    "        counter += 1\n",
    "    if second is None:\n",
    "        head.value = head.next.value\n",
    "        head.next = head.next.next\n",
    "        return\n",
    "    while second.next is not None:\n",
    "        second = second.next\n",
    "        first = first.next\n",
    "    first.next = first.next.next\n"
   ]
  },
  {
   "cell_type": "markdown",
   "metadata": {},
   "source": [
    "23. permutations\n"
   ]
  },
  {
   "cell_type": "code",
   "execution_count": null,
   "metadata": {},
   "outputs": [],
   "source": [
    "# 优化\n",
    "def permute(nums):\n",
    "    res = []\n",
    "    def backtrack(nums, tmp):\n",
    "        if not nums:\n",
    "            res.append(tmp)\n",
    "            return \n",
    "        for i in range(len(nums)):\n",
    "            backtrack(nums[:i] + nums[i+1:], tmp + [nums[i]])\n",
    "    backtrack(nums, [])\n",
    "    return res"
   ]
  },
  {
   "cell_type": "code",
   "execution_count": 13,
   "metadata": {},
   "outputs": [
    {
     "name": "stdout",
     "output_type": "stream",
     "text": [
      "['1, 1, 3', '3, 1, 1', '1, 3, 1']\n",
      "[[1, 1, 3], [3, 1, 1], [1, 3, 1]]\n"
     ]
    }
   ],
   "source": [
    "# O(2(n*n!)) | O(2(n*n!))\n",
    "def Permutation(array):\n",
    "    permutation =[]\n",
    "    Helper(0,array,permutation)\n",
    "    return permutation\n",
    "def Helper(i,array,permutation):\n",
    "    if i == len(array)-1 :\n",
    "        permutation.append(array[:])\n",
    "        print(permutation)\n",
    "    else:\n",
    "        for j in range(i,len(array)):\n",
    "            array[i],array[j] = array[j],array[i]\n",
    "            Helper(i+1,array,permutation)\n",
    "            array[i],array[j] = array[j],array[i]\n",
    "#print(Permutation([1,2,3]))\n",
    "#\n",
    "\n",
    "\n",
    "def PermutationUnique(array):\n",
    "    permutation = set()\n",
    "    Helper(0,array,permutation)\n",
    "    permutation = list(permutation)\n",
    "    permutation = [list(map(int,item.split(\", \"))) for item in permutation]\n",
    "    return permutation\n",
    "def Helper(i,array,permutation):\n",
    "    if i == len(array)-1 :\n",
    "        permutation.add(str(array)[1:-1])\n",
    "\n",
    "    else:\n",
    "        for j in range(i,len(array)):\n",
    "            array[i],array[j] = array[j],array[i]\n",
    "            Helper(i+1,array,permutation)\n",
    "            array[i],array[j] = array[j],array[i]\n",
    "print(PermutationUnique([1,1,3]))\n",
    "\n"
   ]
  },
  {
   "cell_type": "code",
   "execution_count": 150,
   "metadata": {},
   "outputs": [
    {
     "name": "stdout",
     "output_type": "stream",
     "text": [
      "Preorder traversal of the constructed AVL tree is\n",
      "30 20 10 25 40 50 \n"
     ]
    }
   ],
   "source": [
    "# Python code to insert a node in AVL tree\n",
    " \n",
    "# Generic tree node class\n",
    "class TreeNode(object):\n",
    "    def __init__(self, val):\n",
    "        self.val = val\n",
    "        self.left = None\n",
    "        self.right = None\n",
    "        self.height = 1\n",
    " \n",
    "# AVL tree class which supports the \n",
    "# Insert operation\n",
    "class AVL_Tree(object):\n",
    " \n",
    "    # Recursive function to insert key in \n",
    "    # subtree rooted with node and returns\n",
    "    # new root of subtree.\n",
    "    def insert(self, root, key):\n",
    "     \n",
    "        # Step 1 - Perform normal BST\n",
    "        if not root:\n",
    "            return TreeNode(key)\n",
    "        elif key < root.val:\n",
    "            root.left = self.insert(root.left, key)\n",
    "        else:\n",
    "            root.right = self.insert(root.right, key)\n",
    " \n",
    "        # Step 2 - Update the height of the \n",
    "        # ancestor node\n",
    "        root.height = 1 + max(self.getHeight(root.left),\n",
    "                           self.getHeight(root.right))\n",
    " \n",
    "        # Step 3 - Get the balance factor\n",
    "        balance = self.getBalance(root)\n",
    " \n",
    "        # Step 4 - If the node is unbalanced, \n",
    "        # then try out the 4 cases\n",
    "        # Case 1 - Left Left\n",
    "        if balance > 1 and key < root.left.val:\n",
    "            return self.rightRotate(root)\n",
    " \n",
    "        # Case 2 - Right Right\n",
    "        if balance < -1 and key > root.right.val:\n",
    "            return self.leftRotate(root)\n",
    " \n",
    "        # Case 3 - Left Right\n",
    "        if balance > 1 and key > root.left.val:\n",
    "            root.left = self.leftRotate(root.left)\n",
    "            return self.rightRotate(root)\n",
    " \n",
    "        # Case 4 - Right Left\n",
    "        if balance < -1 and key < root.right.val:\n",
    "            root.right = self.rightRotate(root.right)\n",
    "            return self.leftRotate(root)\n",
    " \n",
    "        return root\n",
    " \n",
    "    def leftRotate(self, z):\n",
    " \n",
    "        y = z.right\n",
    "        T2 = y.left\n",
    " \n",
    "        # Perform rotation\n",
    "        y.left = z\n",
    "        z.right = T2\n",
    " \n",
    "        # Update heights\n",
    "        z.height = 1 + max(self.getHeight(z.left),\n",
    "                         self.getHeight(z.right))\n",
    "        y.height = 1 + max(self.getHeight(y.left),\n",
    "                         self.getHeight(y.right))\n",
    " \n",
    "        # Return the new root\n",
    "        return y\n",
    " \n",
    "    def rightRotate(self, z):\n",
    " \n",
    "        y = z.left\n",
    "        T3 = y.right\n",
    " \n",
    "        # Perform rotation\n",
    "        y.right = z\n",
    "        z.left = T3\n",
    " \n",
    "        # Update heights\n",
    "        z.height = 1 + max(self.getHeight(z.left),\n",
    "                        self.getHeight(z.right))\n",
    "        y.height = 1 + max(self.getHeight(y.left),\n",
    "                        self.getHeight(y.right))\n",
    " \n",
    "        # Return the new root\n",
    "        return y\n",
    " \n",
    "    def getHeight(self, root):\n",
    "        if not root:\n",
    "            return 0\n",
    " \n",
    "        return root.height\n",
    " \n",
    "    def getBalance(self, root):\n",
    "        if not root:\n",
    "            return 0\n",
    " \n",
    "        return self.getHeight(root.left) - self.getHeight(root.right)\n",
    " \n",
    "    def preOrder(self, root):\n",
    " \n",
    "        if not root:\n",
    "            return\n",
    " \n",
    "        print(\"{0} \".format(root.val), end=\"\")\n",
    "        self.preOrder(root.left)\n",
    "        self.preOrder(root.right)\n",
    " \n",
    " \n",
    "# Driver program to test above function\n",
    "myTree = AVL_Tree()\n",
    "root = None\n",
    " \n",
    "root = myTree.insert(root, 10)\n",
    "root = myTree.insert(root, 20)\n",
    "root = myTree.insert(root, 30)\n",
    "root = myTree.insert(root, 40)\n",
    "root = myTree.insert(root, 50)\n",
    "root = myTree.insert(root, 25)\n",
    " \n",
    "\"\"\"The constructed AVL Tree would be\n",
    "            30\n",
    "           /  \\\n",
    "         20   40\n",
    "        /  \\     \\\n",
    "       10  25    50\"\"\"\n",
    " \n",
    "# Preorder Traversal\n",
    "print(\"Preorder traversal of the\",\n",
    "      \"constructed AVL tree is\")\n",
    "myTree.preOrder(root)\n",
    "print()\n",
    " \n",
    "# This code is contributed by Ajitesh Pathak"
   ]
  },
  {
   "cell_type": "code",
   "execution_count": 2,
   "metadata": {},
   "outputs": [
    {
     "name": "stdout",
     "output_type": "stream",
     "text": [
      "Sorted array is:\n",
      "1\n",
      "5\n",
      "7\n",
      "8\n",
      "9\n",
      "10\n"
     ]
    }
   ],
   "source": [
    "# Python program for implementation of Quicksort Sort \n",
    "  \n",
    "# This function takes last element as pivot, places \n",
    "# the pivot element at its correct position in sorted \n",
    "# array, and places all smaller (smaller than pivot) \n",
    "# to left of pivot and all greater elements to right \n",
    "# of pivot \n",
    "  \n",
    "  \n",
    "def partition(arr, low, high): \n",
    "    i = (low-1)         # index of smaller element \n",
    "    pivot = arr[high]     # pivot \n",
    "  \n",
    "    for j in range(low, high): \n",
    "  \n",
    "        # If current element is smaller than or \n",
    "        # equal to pivot \n",
    "        if arr[j] <= pivot: \n",
    "  \n",
    "            # increment index of smaller element \n",
    "            i = i+1\n",
    "            arr[i], arr[j] = arr[j], arr[i] \n",
    "  \n",
    "    arr[i+1], arr[high] = arr[high], arr[i+1] \n",
    "    return (i+1) \n",
    "  \n",
    "# The main function that implements QuickSort \n",
    "# arr[] --> Array to be sorted, \n",
    "# low  --> Starting index, \n",
    "# high  --> Ending index \n",
    "  \n",
    "# Function to do Quick sort \n",
    "  \n",
    "  \n",
    "def quickSort(arr, low, high): \n",
    "    if len(arr) == 1: \n",
    "        return arr \n",
    "    if low < high: \n",
    "  \n",
    "        # pi is partitioning index, arr[p] is now \n",
    "        # at right place \n",
    "        pi = partition(arr, low, high) \n",
    "  \n",
    "        # Separately sort elements before \n",
    "        # partition and after partition \n",
    "        quickSort(arr, low, pi-1) \n",
    "        quickSort(arr, pi+1, high) \n",
    "  \n",
    "  \n",
    "# Driver code to test above \n",
    "arr = [10, 7, 8, 9, 1, 5] \n",
    "n = len(arr) \n",
    "quickSort(arr, 0, n-1) \n",
    "print(\"Sorted array is:\") \n",
    "for i in range(n):  \n",
    "    print(\"%d\" % arr[i]), \n",
    "  \n",
    "# This code is contributed by Mohit Kumra \n",
    "#This code in improved by https://github.com/anushkrishnav "
   ]
  },
  {
   "cell_type": "code",
   "execution_count": null,
   "metadata": {},
   "outputs": [],
   "source": [
    "class Node:\n",
    " \n",
    "    # Constructor to create a new node\n",
    "    def __init__(self, key):\n",
    "        self.key = key\n",
    "        self.left = None\n",
    "        self.right = None\n",
    " \n",
    " \n",
    "# A utility function to do inorder traversal of BST\n",
    "def inorder(root):\n",
    "    if root is not None:\n",
    "        inorder(root.left)\n",
    "        print root.key,\n",
    "        inorder(root.right)\n",
    " \n",
    " \n",
    "# A utility function to insert a\n",
    "# new node with given key in BST\n",
    "def insert(node, key):\n",
    " \n",
    "    # If the tree is empty, return a new node\n",
    "    if node is None:\n",
    "        return Node(key)\n",
    " \n",
    "    # Otherwise recur down the tree\n",
    "    if key < node.key:\n",
    "        node.left = insert(node.left, key)\n",
    "    else:\n",
    "        node.right = insert(node.right, key)\n",
    " \n",
    "    # return the (unchanged) node pointer\n",
    "    return node\n",
    " \n",
    "# Given a non-empty binary \n",
    "# search tree, return the node\n",
    "# with minum key value \n",
    "# found in that tree. Note that the\n",
    "# entire tree does not need to be searched\n",
    " \n",
    " \n",
    "def minValueNode(node):\n",
    "    current = node\n",
    " \n",
    "    # loop down to find the leftmost leaf\n",
    "    while(current.left is not None):\n",
    "        current = current.left\n",
    " \n",
    "    return current\n",
    " \n",
    "# Given a binary search tree and a key, this function\n",
    "# delete the key and returns the new root\n",
    " \n",
    " \n",
    "def deleteNode(root, key):\n",
    " \n",
    "    # Base Case\n",
    "    if root is None:\n",
    "        return root\n",
    " \n",
    "    # If the key to be deleted \n",
    "    # is smaller than the root's\n",
    "    # key then it lies in  left subtree\n",
    "    if key < root.key:\n",
    "        root.left = deleteNode(root.left, key)\n",
    " \n",
    "    # If the kye to be delete \n",
    "    # is greater than the root's key\n",
    "    # then it lies in right subtree\n",
    "    elif(key > root.key):\n",
    "        root.right = deleteNode(root.right, key)\n",
    " \n",
    "    # If key is same as root's key, then this is the node\n",
    "    # to be deleted\n",
    "    else:\n",
    " \n",
    "        # Node with only one child or no child\n",
    "        if root.left is None:\n",
    "            temp = root.right\n",
    "            root = None\n",
    "            return temp\n",
    " \n",
    "        elif root.right is None:\n",
    "            temp = root.left\n",
    "            root = None\n",
    "            return temp\n",
    " \n",
    "        # Node with two children: \n",
    "        # Get the inorder successor\n",
    "        # (smallest in the right subtree)\n",
    "        temp = minValueNode(root.right)\n",
    " \n",
    "        # Copy the inorder successor's \n",
    "        # content to this node\n",
    "        root.key = temp.key\n",
    " \n",
    "        # Delete the inorder successor\n",
    "        root.right = deleteNode(root.right, temp.key)\n",
    " \n",
    "    return root\n",
    " \n",
    " \n",
    "# Driver code\n",
    "\"\"\" Let us create following BST\n",
    "              50\n",
    "           /     \\\n",
    "          30      70\n",
    "         /  \\    /  \\\n",
    "       20   40  60   80 \"\"\"\n",
    " \n",
    "root = None\n",
    "root = insert(root, 50)\n",
    "root = insert(root, 30)\n",
    "root = insert(root, 20)\n",
    "root = insert(root, 40)\n",
    "root = insert(root, 70)\n",
    "root = insert(root, 60)\n",
    "root = insert(root, 80)\n",
    " \n",
    "print \"Inorder traversal of the given tree\"\n",
    "inorder(root)\n",
    " \n",
    "print \"\\nDelete 20\"\n",
    "root = deleteNode(root, 20)\n",
    "print \"Inorder traversal of the modified tree\"\n",
    "inorder(root)\n",
    " \n",
    "print \"\\nDelete 30\"\n",
    "root = deleteNode(root, 30)\n",
    "print \"Inorder traversal of the modified tree\"\n",
    "inorder(root)\n",
    " \n",
    "print \"\\nDelete 50\"\n",
    "root = deleteNode(root, 50)\n",
    "print \"Inorder traversal of the modified tree\"\n",
    "inorder(root)\n",
    " \n",
    "# This code is contributed by Nikhil Kumar Singh(nickzuck_007)"
   ]
  },
  {
   "cell_type": "code",
   "execution_count": 11,
   "metadata": {},
   "outputs": [
    {
     "name": "stdout",
     "output_type": "stream",
     "text": [
      "-3 -3\n",
      "result:  0 0\n",
      "0\n"
     ]
    }
   ],
   "source": [
    "def solution(A):\n",
    "    # write your code in Python 3.6\n",
    "    numOfHill = 0\n",
    "    numOfvally = 0\n",
    "    isUp,isDown=True,True\n",
    "    A_c = A.copy().append(float(\"-inf\"))\n",
    "    for i in range(1,len(A)):\n",
    "        print(A[i-1],A[i])\n",
    "        print(\"result: \",numOfHill, numOfHill)\n",
    "        if A[i-1] < A[i]:\n",
    "            print(\"isUp\")\n",
    "            isUp = True\n",
    "            if isDown:\n",
    "                numOfvally+=1\n",
    "                print(\"isVa\")\n",
    "                isDown = False\n",
    "        elif A[i-1] > A[i]:\n",
    "            print(\"isdown\")\n",
    "            isDown = True\n",
    "            if isUp:\n",
    "                numOfHill+=1\n",
    "                print(\"isHi\")\n",
    "                isUp = False\n",
    "    \n",
    "    return numOfHill+ numOfHill\n",
    "A = [-3,-3]\n",
    "print(solution(A))"
   ]
  },
  {
   "cell_type": "code",
   "execution_count": 12,
   "metadata": {},
   "outputs": [
    {
     "data": {
      "text/plain": [
       "2"
      ]
     },
     "execution_count": 12,
     "metadata": {},
     "output_type": "execute_result"
    }
   ],
   "source": [
    "max(2,2)"
   ]
  },
  {
   "cell_type": "markdown",
   "metadata": {},
   "source": [
    "most watter <br>\n",
    "\n",
    "若向内移动短板，水槽的短板 min(h\\[i\\], h\\[j\\])min(h\\[i\\],h\\[j\\]) 可能变大，因此水槽面积 S(i, j)S(i,j) 可能增大。<br>\n",
    "若向内移动长板，水槽的短板 min(h\\[i\\], h\\[j\\])min(h\\[i\\],h\\[j\\]) 不变或变小，下个水槽的面积一定小于当前水槽面积。"
   ]
  },
  {
   "cell_type": "code",
   "execution_count": 2,
   "metadata": {},
   "outputs": [
    {
     "ename": "NameError",
     "evalue": "name 'List' is not defined",
     "output_type": "error",
     "traceback": [
      "\u001b[1;31m---------------------------------------------------------------------------\u001b[0m",
      "\u001b[1;31mNameError\u001b[0m                                 Traceback (most recent call last)",
      "\u001b[1;32m<ipython-input-2-15ac081394d5>\u001b[0m in \u001b[0;36m<module>\u001b[1;34m\u001b[0m\n\u001b[1;32m----> 1\u001b[1;33m \u001b[1;32mdef\u001b[0m \u001b[0mmaxArea\u001b[0m\u001b[1;33m(\u001b[0m\u001b[0mself\u001b[0m\u001b[1;33m,\u001b[0m \u001b[0mheight\u001b[0m\u001b[1;33m:\u001b[0m \u001b[0mList\u001b[0m\u001b[1;33m[\u001b[0m\u001b[0mint\u001b[0m\u001b[1;33m]\u001b[0m\u001b[1;33m)\u001b[0m \u001b[1;33m->\u001b[0m \u001b[0mint\u001b[0m\u001b[1;33m:\u001b[0m\u001b[1;33m\u001b[0m\u001b[1;33m\u001b[0m\u001b[0m\n\u001b[0m\u001b[0;32m      2\u001b[0m     \u001b[0mi\u001b[0m\u001b[1;33m,\u001b[0m \u001b[0mj\u001b[0m\u001b[1;33m,\u001b[0m \u001b[0mres\u001b[0m \u001b[1;33m=\u001b[0m \u001b[1;36m0\u001b[0m\u001b[1;33m,\u001b[0m \u001b[0mlen\u001b[0m\u001b[1;33m(\u001b[0m\u001b[0mheight\u001b[0m\u001b[1;33m)\u001b[0m \u001b[1;33m-\u001b[0m \u001b[1;36m1\u001b[0m\u001b[1;33m,\u001b[0m \u001b[1;36m0\u001b[0m\u001b[1;33m\u001b[0m\u001b[1;33m\u001b[0m\u001b[0m\n\u001b[0;32m      3\u001b[0m     \u001b[1;32mwhile\u001b[0m \u001b[0mi\u001b[0m \u001b[1;33m<\u001b[0m \u001b[0mj\u001b[0m\u001b[1;33m:\u001b[0m\u001b[1;33m\u001b[0m\u001b[1;33m\u001b[0m\u001b[0m\n\u001b[0;32m      4\u001b[0m         \u001b[1;32mif\u001b[0m \u001b[0mheight\u001b[0m\u001b[1;33m[\u001b[0m\u001b[0mi\u001b[0m\u001b[1;33m]\u001b[0m \u001b[1;33m<\u001b[0m \u001b[0mheight\u001b[0m\u001b[1;33m[\u001b[0m\u001b[0mj\u001b[0m\u001b[1;33m]\u001b[0m\u001b[1;33m:\u001b[0m\u001b[1;33m\u001b[0m\u001b[1;33m\u001b[0m\u001b[0m\n\u001b[0;32m      5\u001b[0m             \u001b[0mres\u001b[0m \u001b[1;33m=\u001b[0m \u001b[0mmax\u001b[0m\u001b[1;33m(\u001b[0m\u001b[0mres\u001b[0m\u001b[1;33m,\u001b[0m \u001b[0mheight\u001b[0m\u001b[1;33m[\u001b[0m\u001b[0mi\u001b[0m\u001b[1;33m]\u001b[0m \u001b[1;33m*\u001b[0m \u001b[1;33m(\u001b[0m\u001b[0mj\u001b[0m \u001b[1;33m-\u001b[0m \u001b[0mi\u001b[0m\u001b[1;33m)\u001b[0m\u001b[1;33m)\u001b[0m\u001b[1;33m\u001b[0m\u001b[1;33m\u001b[0m\u001b[0m\n",
      "\u001b[1;31mNameError\u001b[0m: name 'List' is not defined"
     ]
    }
   ],
   "source": [
    "def maxArea(self, height: List[int]) -> int:\n",
    "    i, j, res = 0, len(height) - 1, 0\n",
    "    while i < j:\n",
    "        if height[i] < height[j]:\n",
    "            res = max(res, height[i] * (j - i))\n",
    "            i += 1\n",
    "        else:\n",
    "            res = max(res, height[j] * (j - i))\n",
    "            j -= 1\n",
    "    return res\n"
   ]
  },
  {
   "cell_type": "markdown",
   "metadata": {},
   "source": [
    "红黑树和AVL树各自的优点是什么？\n",
    "如果插入一个结点引起了树的不平衡，AVL树和红黑树都最多2次旋转就可以使其平衡；在删除一个结点引起树的不平衡，最坏情况下，AVL树要从最深的不平衡结点来调整到这条路径上的所有结点的平衡性，因此需要若干次的旋转，而红黑树最多需要三次；\n",
    "AVL树是高度平衡的二叉搜索树，所以AVL的查找速率更快一点，红黑树的茶渣速率会稍微比AVL树慢一点，因为它没有AVL树那样的高度平衡，它比AVL树稍微不平衡多一层，所以查找的时候最多会多一次的比较\n",
    "AVL树在大量数据的插入和删除时，AVL树调整的次数会比红黑树调整的次数多，所以红黑树在插入和删除的大量结点的场景下效率会更高\n"
   ]
  },
  {
   "cell_type": "code",
   "execution_count": 4,
   "metadata": {},
   "outputs": [
    {
     "name": "stdout",
     "output_type": "stream",
     "text": [
      "\n",
      "Note: you may need to restart the kernel to use updated packages.\n"
     ]
    },
    {
     "name": "stderr",
     "output_type": "stream",
     "text": [
      "Traceback (most recent call last):\n",
      "  File \"E:\\AllUsers\\Anaconda\\Scripts\\conda-script.py\", line 11, in <module>\n",
      "    from conda.cli import main\n",
      "ImportError: No module named conda.cli\n"
     ]
    }
   ],
   "source": [
    "conda install xelatex"
   ]
  },
  {
   "cell_type": "code",
   "execution_count": null,
   "metadata": {},
   "outputs": [],
   "source": []
  }
 ],
 "metadata": {
  "kernelspec": {
   "display_name": "Python 3",
   "language": "python",
   "name": "python3"
  },
  "language_info": {
   "codemirror_mode": {
    "name": "ipython",
    "version": 3
   },
   "file_extension": ".py",
   "mimetype": "text/x-python",
   "name": "python",
   "nbconvert_exporter": "python",
   "pygments_lexer": "ipython3",
   "version": "3.7.3"
  }
 },
 "nbformat": 4,
 "nbformat_minor": 4
}
