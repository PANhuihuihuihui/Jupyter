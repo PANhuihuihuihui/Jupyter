{
 "cells": [
  {
   "cell_type": "code",
   "execution_count": 7,
   "metadata": {},
   "outputs": [
    {
     "name": "stdout",
     "output_type": "stream",
     "text": [
      "abcdefghijklmnopqrstuvwxyz\n",
      "meituan\n",
      "12 0 0\n",
      "4 12 11\n",
      "8 4 28\n",
      "19 8 31\n",
      "20 19 41\n",
      "0 20 41\n",
      "13 0 46\n",
      "58\n"
     ]
    },
    {
     "ename": "TypeError",
     "evalue": "'OutStream' object is not callable",
     "output_type": "error",
     "traceback": [
      "\u001b[1;31m---------------------------------------------------------------------------\u001b[0m",
      "\u001b[1;31mTypeError\u001b[0m                                 Traceback (most recent call last)",
      "\u001b[1;32m<ipython-input-7-bc56f0d83e96>\u001b[0m in \u001b[0;36m<module>\u001b[1;34m\u001b[0m\n\u001b[0;32m     16\u001b[0m     \u001b[0msys\u001b[0m\u001b[1;33m.\u001b[0m\u001b[0mstdout\u001b[0m\u001b[1;33m(\u001b[0m\u001b[0mcount\u001b[0m\u001b[1;33m)\u001b[0m\u001b[1;33m\u001b[0m\u001b[1;33m\u001b[0m\u001b[0m\n\u001b[0;32m     17\u001b[0m \u001b[1;33m\u001b[0m\u001b[0m\n\u001b[1;32m---> 18\u001b[1;33m \u001b[0mwasted\u001b[0m\u001b[1;33m(\u001b[0m\u001b[1;33m)\u001b[0m\u001b[1;33m\u001b[0m\u001b[1;33m\u001b[0m\u001b[0m\n\u001b[0m\u001b[0;32m     19\u001b[0m \u001b[1;33m\u001b[0m\u001b[0m\n",
      "\u001b[1;32m<ipython-input-7-bc56f0d83e96>\u001b[0m in \u001b[0;36mwasted\u001b[1;34m()\u001b[0m\n\u001b[0;32m     14\u001b[0m         \u001b[0mpreviousindex\u001b[0m \u001b[1;33m=\u001b[0m \u001b[0mcurrentindex\u001b[0m\u001b[1;33m\u001b[0m\u001b[1;33m\u001b[0m\u001b[0m\n\u001b[0;32m     15\u001b[0m     \u001b[0mprint\u001b[0m\u001b[1;33m(\u001b[0m\u001b[0mcount\u001b[0m\u001b[1;33m)\u001b[0m\u001b[1;33m\u001b[0m\u001b[1;33m\u001b[0m\u001b[0m\n\u001b[1;32m---> 16\u001b[1;33m     \u001b[0msys\u001b[0m\u001b[1;33m.\u001b[0m\u001b[0mstdout\u001b[0m\u001b[1;33m(\u001b[0m\u001b[0mcount\u001b[0m\u001b[1;33m)\u001b[0m\u001b[1;33m\u001b[0m\u001b[1;33m\u001b[0m\u001b[0m\n\u001b[0m\u001b[0;32m     17\u001b[0m \u001b[1;33m\u001b[0m\u001b[0m\n\u001b[0;32m     18\u001b[0m \u001b[0mwasted\u001b[0m\u001b[1;33m(\u001b[0m\u001b[1;33m)\u001b[0m\u001b[1;33m\u001b[0m\u001b[1;33m\u001b[0m\u001b[0m\n",
      "\u001b[1;31mTypeError\u001b[0m: 'OutStream' object is not callable"
     ]
    }
   ],
   "source": [
    "import sys\n",
    "def wasted():\n",
    "    patten = str(input())\n",
    "    target = str(input())\n",
    "    previousindex = 0\n",
    "    count = 0\n",
    "    for i in target:\n",
    "        currentindex = patten.index(i)\n",
    "        print(currentindex,previousindex,count)\n",
    "        if previousindex >= currentindex:\n",
    "            count += (26 - (previousindex-currentindex) -1)\n",
    "        else:\n",
    "            count += currentindex - previousindex-1\n",
    "        previousindex = currentindex\n",
    "    print(count)\n",
    "    sys.stdout(count)\n",
    "            \n",
    "wasted()\n",
    "        "
   ]
  },
  {
   "cell_type": "code",
   "execution_count": 15,
   "metadata": {},
   "outputs": [
    {
     "name": "stdout",
     "output_type": "stream",
     "text": [
      "a\n",
      "b\n",
      "c\n",
      "d\n",
      "e\n",
      "f\n",
      "g\n",
      "h\n",
      "i\n",
      "j\n",
      "k\n",
      "l\n",
      "m\n",
      "n\n",
      "o\n",
      "p\n",
      "q\n",
      "r\n",
      "s\n",
      "t\n",
      "u\n",
      "v\n",
      "w\n",
      "x\n",
      "y\n",
      "z\n"
     ]
    }
   ],
   "source": [
    "class Node:\n",
    "    def __init__(self,value):\n",
    "        self.value = value\n",
    "        self.next = None\n",
    "def LinkListBuildup(patten):\n",
    "    firstNode = Node(patten[0])\n",
    "    previousNode = firstNode\n",
    "    for char in patten[1:]:\n",
    "        newNode = Node(char)\n",
    "        previousNode.next = newNode\n",
    "        previousNode = newNode\n",
    "    newNode.next = firstNode\n",
    "    return firstNode\n",
    "x = LinkListBuildup(\"abcdefghijklmnopqrstuvwxyz\")\n",
    "for i in range(26):\n",
    "    print(x.value)\n",
    "    x = x.next"
   ]
  },
  {
   "cell_type": "code",
   "execution_count": 18,
   "metadata": {},
   "outputs": [
    {
     "name": "stdout",
     "output_type": "stream",
     "text": [
      "abcdefghijklmnopqrstuvwxyz\n",
      "meituan\n",
      "0\n",
      "12\n",
      "29\n",
      "32\n",
      "42\n",
      "42\n",
      "47\n",
      "59\n"
     ]
    }
   ],
   "source": [
    "\"\"\"\n",
    "def wasted():\n",
    "    patten = str(input())；\n",
    "    target = str(input())；\n",
    "    firstNode = LinkListBuildup(patten)\n",
    "    count = 0\n",
    "    for char in target:\n",
    "        while True:\n",
    "            if char == firstNode.value:\n",
    "                break\n",
    "            else:\n",
    "                firstNode = firstNode.next\n",
    "                count +=1\n",
    "    print(count)\n",
    "    sys.stdout(count)\n",
    "\"\"\"\n",
    "class Node:\n",
    "    def __init__(self,value):\n",
    "        self.value = value\n",
    "        self.next = None\n",
    "def LinkListBuildup(patten):\n",
    "    firstNode = Node(patten[0])\n",
    "    previousNode = firstNode\n",
    "    for char in patten[1:]:\n",
    "        newNode = Node(char)\n",
    "        previousNode.next = newNode\n",
    "        previousNode = newNode\n",
    "    newNode.next = firstNode\n",
    "    return firstNode\n",
    "\n",
    "def wasted():\n",
    "    patten = str(input())\n",
    "    target = str(input())\n",
    "    firstNode = LinkListBuildup(patten)\n",
    "    count = 0\n",
    "    for char in target:\n",
    "        print(count)\n",
    "        while True:\n",
    "            if char == firstNode.value:\n",
    "                firstNode = firstNode.next\n",
    "                break\n",
    "            else:\n",
    "                firstNode = firstNode.next\n",
    "                count +=1\n",
    "    print(count)\n",
    "            \n",
    "wasted()\n",
    "        "
   ]
  },
  {
   "cell_type": "code",
   "execution_count": null,
   "metadata": {},
   "outputs": [],
   "source": [
    "def GetCodevalue():\n",
    "    inputstr = str(input())\n",
    "    n,m = inputstr.split(\" \"))\n",
    "    table = []\n",
    "    for i in range(n):\n",
    "        inputstr = str(input())\n",
    "        table.append(inputstr.split(\" \"))\n",
    "    print(table)\n",
    "    today = 2\n",
    "    yestoday = 1\n",
    "    for i in range(m):\n",
    "        yestoday = today\n",
    "        today = table[today][yestoday]\n",
    "    print(today)\n",
    "    \n",
    "GetCodevalue()"
   ]
  },
  {
   "cell_type": "code",
   "execution_count": null,
   "metadata": {},
   "outputs": [],
   "source": []
  }
 ],
 "metadata": {
  "kernelspec": {
   "display_name": "Python 3",
   "language": "python",
   "name": "python3"
  },
  "language_info": {
   "codemirror_mode": {
    "name": "ipython",
    "version": 3
   },
   "file_extension": ".py",
   "mimetype": "text/x-python",
   "name": "python",
   "nbconvert_exporter": "python",
   "pygments_lexer": "ipython3",
   "version": "3.7.3"
  }
 },
 "nbformat": 4,
 "nbformat_minor": 4
}
