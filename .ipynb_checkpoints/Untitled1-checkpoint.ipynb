{
 "cells": [
  {
   "cell_type": "code",
   "execution_count": 10,
   "metadata": {},
   "outputs": [
    {
     "name": "stdout",
     "output_type": "stream",
     "text": [
      "1\n",
      "10\n",
      "9\n",
      "3.0\n",
      "1.0\n",
      "4\n"
     ]
    }
   ],
   "source": [
    "import sys\n",
    "def getoutput(target):\n",
    "    count = 0\n",
    "    while target != 1:\n",
    "        modemin1_3 = (target-1)%3\n",
    "        mode3 = target % 3\n",
    "        mode2 = target % 2\n",
    "        if modemin1_3 == 0:\n",
    "            target = target - 1\n",
    "        elif mode3 == 0:\n",
    "            target = target / 3\n",
    "        elif mode2 == 0:\n",
    "            target = target / 2\n",
    "        else:\n",
    "            target = target - 1\n",
    "        print(target)\n",
    "        count +=1\n",
    "    return count+1\n",
    "if __name__ == \"__main__\":\n",
    "    #dp\n",
    "    T = int(input())\n",
    "    dic = {}\n",
    "    for i in range(T):\n",
    "        target = int(input())\n",
    "        if target in dic.keys():\n",
    "            print(dic[target])\n",
    "        else:\n",
    "            res = getoutput(target)\n",
    "            dic[target] = res\n",
    "            dic[target*3] = res+1\n",
    "            dic[target*2] = res+1\n",
    "            dic[target+1] = res+1\n",
    "            print(res)"
   ]
  },
  {
   "cell_type": "code",
   "execution_count": null,
   "metadata": {},
   "outputs": [],
   "source": []
  }
 ],
 "metadata": {
  "kernelspec": {
   "display_name": "Python 3",
   "language": "python",
   "name": "python3"
  },
  "language_info": {
   "codemirror_mode": {
    "name": "ipython",
    "version": 3
   },
   "file_extension": ".py",
   "mimetype": "text/x-python",
   "name": "python",
   "nbconvert_exporter": "python",
   "pygments_lexer": "ipython3",
   "version": "3.7.3"
  }
 },
 "nbformat": 4,
 "nbformat_minor": 4
}
