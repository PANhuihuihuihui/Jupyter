{
 "cells": [
  {
   "cell_type": "markdown",
   "metadata": {},
   "source": [
    "# Python data form\n",
    "1.1. card example\n",
    "   * __len__\n",
    "   * __getitem__ : \n",
    "      ** literable >>> for\n",
    "      ** slicing >>> \\[\\]\n",
    "   * __contains__  >>> in\n",
    "   * sorted(list,key)\n",
    "   * __setitem__ 洗牌 >>> chapter 11\n"
   ]
  },
  {
   "cell_type": "code",
   "execution_count": 8,
   "metadata": {},
   "outputs": [
    {
     "name": "stdout",
     "output_type": "stream",
     "text": [
      "52\n",
      "Card(rank='2', suit='clubs')\n",
      "Card(rank='4', suit='spades')\n",
      "Card(rank='3', suit='spades')\n",
      "Card(rank='2', suit='spades')\n"
     ]
    }
   ],
   "source": [
    "import collections\n",
    "\n",
    "Card = collections.namedtuple('Card', ['rank', 'suit'])\n",
    "\n",
    "class FrenchDeck:\n",
    "    ranks = [str(n) for n in range(2, 11)] + list('JQKA')\n",
    "    suits = 'spades diamonds clubs hearts'.split()\n",
    "\n",
    "    def __init__(self):\n",
    "        self._cards = [Card(rank, suit) for suit in self.suits\n",
    "                                        for rank in self.ranks]\n",
    "\n",
    "    def __len__(self):\n",
    "        return len(self._cards)\n",
    "\n",
    "    def __getitem__(self, position):\n",
    "        return self._cards[position]\n",
    "    \n",
    "# for example \n",
    "# 1.很好的利用的python 的其他方法 2.不用记住。\n",
    "deck = FrenchDeck()\n",
    "print(len(deck))\n",
    "from random import choice\n",
    "print(choice(deck))\n",
    "# slicing \n",
    "deck[:3] # top 3\n",
    "deck[12::13] # 13\n",
    "    # literable\n",
    "for card in reversed(deck[:3]):\n",
    "    print(card)\n"
   ]
  },
  {
   "cell_type": "markdown",
   "metadata": {},
   "source": [
    "1.2 使用特殊方法\n",
    "<br>然而如果是 Python 内置的类型,比如列表(list)、字符串(str)、\n",
    "字节序列(bytearray)等,那么 CPython 会抄个近路,__len__ 实际\n",
    "上会直接返回 PyVarObject 里的 ob_size 属性。PyVarObject 是表示\n",
    "内存中长度可变的内置对象的 C 语言结构体。直接读取这个值比调用一\n",
    "个方法要快很多。<br>\n",
    "1.2.1模拟数值类型"
   ]
  },
  {
   "cell_type": "code",
   "execution_count": 9,
   "metadata": {},
   "outputs": [],
   "source": [
    "from math import hypot\n",
    "\n",
    "class Vector:\n",
    "\n",
    "    def __init__(self, x=0, y=0):\n",
    "        self.x = x\n",
    "        self.y = y\n",
    "\n",
    "    def __repr__(self):\n",
    "        # 字符串表示形式的 >>> print\n",
    "        # difference about repr and str\n",
    "        # repr : for developer , to be unambiougous\n",
    "        # str:  for user , to be clear to read\n",
    "        # if no str, python will find str\n",
    "        return 'Vector(%r, %r)' % (self.x, self.y)\n",
    "\n",
    "    def __abs__(self):\n",
    "        return hypot(self.x, self.y)\n",
    "\n",
    "    def __bool__(self):\n",
    "        \"\"\"\n",
    "        bool(x) 的背后是调用x.__bool__() 的结果;\n",
    "        如果不存在 __bool__ 方法,那么 bool(x) 会尝试调用 x.__len__()。\n",
    "        若返回 0,则 bool 会返回 False;否则返回True\n",
    "        \"\"\"\n",
    "        return bool(abs(self))\n",
    "    #   return bool(self.x or self.y)\n",
    "\n",
    "    def __add__(self, other):\n",
    "        #代码里只是读取了它们的值而已。中缀运算符的基本原则就是不改变操作对象,而\n",
    "        #是产出一个新的值。第 13 章会谈到更多这方面的问题。\n",
    "        x = self.x + other.x\n",
    "        y = self.y + other.y\n",
    "        return Vector(x, y)\n",
    "\n",
    "    def __mul__(self, scalar):\n",
    "        # 交换律则被忽略了>>> 13 __rmul__\n",
    "        return Vector(self.x * scalar, self.y * scalar)"
   ]
  },
  {
   "cell_type": "markdown",
   "metadata": {},
   "source": [
    "# Arrry and sequence"
   ]
  },
  {
   "cell_type": "markdown",
   "metadata": {},
   "source": [
    "2.1 内置序列类型概览\n",
    "\n",
    "__容器序列__\n",
    "   * list、tuple 和 collections.deque 这些序列能存放不同类型的数据。\n",
    "   * by reference\n",
    "   \n",
    "__扁平序列__\n",
    "   * str、bytes、bytearray、memoryview 和 array.array,这类序列只能容纳一种类型。\n",
    "   * by value >>> 连续的内存空间，所以更集凑。\n",
    "   \n",
    "__可变序列__\n",
    "* list、bytearray、array.array、collections.deque 和 memoryview。\n",
    "  \n",
    "__不可变序列__\n",
    "* tuple、str 和 bytes\n",
    "\n",
    "![diffence of mutable](img/2_1.png)\n"
   ]
  },
  {
   "cell_type": "markdown",
   "metadata": {},
   "source": [
    "2.2 列表推导和生成器表达式 list comprehension generator expression\n",
    "\n",
    "2.2.1 __listcomps__\n",
    "    \n",
    "    通常的原则是,只用列表推导来创建新的列表,并且尽量保持简短。如果列表推导的代码超过了两行,你可能就要考虑是不是得用 for 循环重写了\n"
   ]
  },
  {
   "cell_type": "code",
   "execution_count": 12,
   "metadata": {},
   "outputs": [
    {
     "data": {
      "text/plain": [
       "[36, 162, 163, 165, 8364, 164]"
      ]
     },
     "execution_count": 12,
     "metadata": {},
     "output_type": "execute_result"
    }
   ],
   "source": [
    "symbols = '$¢£¥€¤'\n",
    "codes = [ord(symbol) for symbol in symbols]\n",
    "codes"
   ]
  },
  {
   "cell_type": "markdown",
   "metadata": {},
   "source": [
    "2.2.2 __listcomps__ and __filter map__\n",
    "\n",
    "filter 和 map 合起来能做的事情,列表推导也可以做,而且还不需要\n",
    "借助难以理解和阅读的 lambda 表达式. >>> chapter 5"
   ]
  },
  {
   "cell_type": "code",
   "execution_count": 17,
   "metadata": {},
   "outputs": [
    {
     "data": {
      "text/plain": [
       "True"
      ]
     },
     "execution_count": 17,
     "metadata": {},
     "output_type": "execute_result"
    }
   ],
   "source": [
    "symbols = '$¢£¥€¤'\n",
    "beyond_ascii_1 = [ord(x) for x in symbols if ord(x) >127]\n",
    "beyond_ascii_2 = list(filter(lambda c: c> 127, map(ord,symbols)))\n",
    "beyond_ascii_1 == beyond_ascii_2"
   ]
  },
  {
   "cell_type": "code",
   "execution_count": 18,
   "metadata": {},
   "outputs": [
    {
     "name": "stdout",
     "output_type": "stream",
     "text": [
      "listcomp        : 0.008 0.007 0.007 0.007 0.009\n",
      "listcomp + func : 0.012 0.012 0.012 0.011 0.011\n",
      "filter + lambda : 0.012 0.012 0.012 0.012 0.012\n",
      "filter + func   : 0.011 0.011 0.011 0.011 0.011\n"
     ]
    }
   ],
   "source": [
    "import timeit\n",
    "\n",
    "TIMES = 10000\n",
    "\n",
    "SETUP = \"\"\"\n",
    "symbols = '$¢£¥€¤'\n",
    "def non_ascii(c):\n",
    "    return c > 127\n",
    "\"\"\"\n",
    "\n",
    "def clock(label, cmd):\n",
    "    res = timeit.repeat(cmd, setup=SETUP, number=TIMES)\n",
    "    print(label, *('{:.3f}'.format(x) for x in res))\n",
    "\n",
    "clock('listcomp        :', '[ord(s) for s in symbols if ord(s) > 127]')\n",
    "clock('listcomp + func :', '[ord(s) for s in symbols if non_ascii(ord(s))]')\n",
    "clock('filter + lambda :', 'list(filter(lambda c: c > 127, map(ord, symbols)))')\n",
    "clock('filter + func   :', 'list(filter(non_ascii, map(ord, symbols)))')"
   ]
  },
  {
   "cell_type": "markdown",
   "metadata": {},
   "source": [
    "2.2.3 笛卡儿积\n",
    "__!!__ :\n",
    "\n",
    "成器表达式背后遵守了迭代器协议,可以逐个地产出元素,而不是先建立一个完整的列表,然后再把这个列表传递到某个构造函数里。前面那种方式显然能够节省内存. \n",
    "\n",
    "生成器表达式的语法跟列表推导差不多,只不过把方括号换成圆括号而已 >> 14 chapter\n"
   ]
  },
  {
   "cell_type": "code",
   "execution_count": 19,
   "metadata": {},
   "outputs": [],
   "source": [
    "colors = ['black', 'white']\n",
    "sizes = ['S', 'M', 'L']\n",
    "tshirts = [(color,size) for color in colors for size in sizes]\n",
    "# order matter\n"
   ]
  },
  {
   "cell_type": "markdown",
   "metadata": {},
   "source": [
    "2.3 元组不仅仅是不可变的列表\n",
    "* 有字段名的记录\n",
    "<br>元组其实是对数据的记录:元组中的每个元素都存放了记录中一个字段\n",
    "的数据,外加这个字段的位置。正是这个位置信息给数据赋予了意义\n",
    "* 不可变的列表"
   ]
  },
  {
   "cell_type": "code",
   "execution_count": 28,
   "metadata": {},
   "outputs": [
    {
     "name": "stdout",
     "output_type": "stream",
     "text": [
      "2\n",
      "idrsa.pub\n",
      "0 1 [2, 3, 4]\n",
      "0 [1, 2] 3 4\n"
     ]
    }
   ],
   "source": [
    "#2.3.2 packing and unpacking \n",
    "a =1\n",
    "b =2\n",
    "b, a = a, b\n",
    "#还可以用 * 运算符把一个可迭代对象拆开作为函数的参数:\n",
    "def myadd(x,y):\n",
    "    return x+y\n",
    "t = (1,1)\n",
    "print(myadd(*t))\n",
    "import os\n",
    "_, filename = os.path.split('/home/luciano/.ssh/idrsa.pub')\n",
    "print(filename)\n",
    "# *args 处理剩下的元素, any position\n",
    "a,b,*rest = range(5)\n",
    "print(a,b,rest)\n",
    "a, *body, c, d = range(5)\n",
    "print(a, body, c, d)\n",
    "# 可以是嵌套的\n",
    "#for name, cc, pop, (latitude, longitude) in metro_areas:"
   ]
  },
  {
   "cell_type": "markdown",
   "metadata": {},
   "source": [
    "2.3.4具名元组 \n",
    "\n",
    "    我们时常会需要给记录中的字段命名\n",
    "    collections.namedtuple 是一个工厂函数,它可以用来构建一个带字段名的元组和一个有名字的类——这个带名字的类对调试程序有很大帮助。\n",
    "    "
   ]
  },
  {
   "cell_type": "markdown",
   "metadata": {},
   "source": [
    "2.4 切片\n",
    "2.4.1 切片和区间会忽略最后一个元素\n",
    " * range(3) 和 my_list[:3] 都返回 3 个元素\n",
    " * 快速计算出切片和区间的长度 stop - start\n",
    " * my_list[:x] 和 my_list[x:]\n",
    "2.4.2 多维切片和省略\n",
    "seq[start:stop:step] 进行求值的时候,Python 会调用seq.__getitem__(slice(start, stop, step))\n",
    "2.4.4 给切片赋值\n"
   ]
  },
  {
   "cell_type": "code",
   "execution_count": 31,
   "metadata": {},
   "outputs": [
    {
     "name": "stdout",
     "output_type": "stream",
     "text": [
      "[0, 1, 2, 3, 4, 5, 6, 7, 8, 9]\n",
      "[0, 1, 20, 30, 5, 6, 7, 8, 9]\n",
      "[0, 1, 20, 30, 5, 8, 9]\n",
      "[0, 1, 20, 11, 5, 22, 9]\n",
      "[0, 1, 100, 22, 9]\n"
     ]
    }
   ],
   "source": [
    "l = list(range(10))\n",
    "print(l)\n",
    "l[2:5] = [20, 30]\n",
    "print(l)\n",
    "del l[5:7]\n",
    "print(l)\n",
    "l[3::2] = [11, 22]\n",
    "print(l)\n",
    "try:\n",
    "    l[2:5] = 100\n",
    "    print(\"error\")\n",
    "except:\n",
    "    l[2:5] = [100]\n",
    "print(l)"
   ]
  },
  {
   "cell_type": "markdown",
   "metadata": {},
   "source": [
    "2.5 对序列使用+和*\n",
    "+ 和 * 都遵循这个规律,不修改原有的操作对象,而是构建一个全新的序列"
   ]
  },
  {
   "cell_type": "code",
   "execution_count": 35,
   "metadata": {},
   "outputs": [
    {
     "data": {
      "text/plain": [
       "'abcdabcdabcdabcdabcd'"
      ]
     },
     "execution_count": 35,
     "metadata": {},
     "output_type": "execute_result"
    }
   ],
   "source": [
    "l = [1, 2, 3]\n",
    "l * 5\n",
    "5 * 'abcd'"
   ]
  },
  {
   "cell_type": "code",
   "execution_count": 36,
   "metadata": {},
   "outputs": [
    {
     "name": "stdout",
     "output_type": "stream",
     "text": [
      "[['_', '_', '_'], ['_', '_', 'X'], ['_', '_', '_']]\n",
      "[['_', '_', 'O'], ['_', '_', 'O'], ['_', '_', 'O']]\n"
     ]
    }
   ],
   "source": [
    "board = [['_'] * 3 for i in range(3)] # do 3 times\n",
    "board[1][2] = 'X'\n",
    "print(board)\n",
    "\n",
    "weird_board = [['_'] * 3] * 3 # reference \n",
    "weird_board[1][2] = 'O'\n",
    "print(weird_board)"
   ]
  },
  {
   "cell_type": "code",
   "execution_count": 38,
   "metadata": {},
   "outputs": [],
   "source": [
    "row=['_'] * 3\n",
    "board = []\n",
    "for i in range(3):\n",
    "    board.append(row)\n",
    "   \n",
    "board_2 = []\n",
    "for i in range(3):\n",
    "    row=['_'] * 3\n",
    "    board.append(row)"
   ]
  },
  {
   "cell_type": "markdown",
   "metadata": {},
   "source": [
    "2.6 序列的增量赋值 += *=\n",
    " \n",
    " 如果 a 实现了 __iadd__ 方法,就会调用这个方法。同时对可变序列\n",
    "(例如 list、bytearray 和 array.array)来说,a 会就地改动,就\n",
    "像调用了 a.extend(b) 一样。但是如果 a 没有实现 __iadd__ 的话,a\n",
    "+= b 这个表达式的效果就变得跟 a = a + b 一样了:首先计算 a +\n",
    "b,得到一个新的对象,然后赋值给 a。也就是说,在这个表达式中,\n",
    "变量名会不会被关联到新的对象,完全取决于这个类型有没有实现\n",
    "__iadd__ 这个方法"
   ]
  },
  {
   "cell_type": "markdown",
   "metadata": {},
   "source": [
    "2.7 list.sort方法和内置函数sorted\n",
    "\n",
    "list.sort 方法会就地排序列表,不会把原列表复制一份。返回值是 None,\n",
    "在这种情况下返回 None 其实是 Python 的一个惯例:\n",
    "例如,random.shuffle 函数也遵守了这个惯例。\n"
   ]
  },
  {
   "cell_type": "markdown",
   "metadata": {},
   "source": [
    "2.8 用bisect来管理已排序的序列\n",
    "bisect(haystack, needle) 在 haystack(干草垛)里搜索needle(针)的位置,该位置满足的条件是,把 needle 插入这个位置之后,haystack 还能保持升序\n",
    "* bisect() find position and insert()\n",
    "* insort() finish one step >>> faster"
   ]
  },
  {
   "cell_type": "code",
   "execution_count": 1,
   "metadata": {},
   "outputs": [
    {
     "name": "stdout",
     "output_type": "stream",
     "text": [
      "DEMO: bisect_right\n",
      "haystack ->  1  4  5  6  8 12 15 20 21 23 23 26 29 30\n",
      "31 @ 14      |  |  |  |  |  |  |  |  |  |  |  |  |  |31\n",
      "30 @ 14      |  |  |  |  |  |  |  |  |  |  |  |  |  |30\n",
      "29 @ 13      |  |  |  |  |  |  |  |  |  |  |  |  |29\n",
      "23 @ 11      |  |  |  |  |  |  |  |  |  |  |23\n",
      "22 @  9      |  |  |  |  |  |  |  |  |22\n",
      "10 @  5      |  |  |  |  |10\n",
      " 8 @  5      |  |  |  |  |8 \n",
      " 5 @  3      |  |  |5 \n",
      " 2 @  1      |2 \n",
      " 1 @  1      |1 \n",
      " 0 @  0    0 \n"
     ]
    }
   ],
   "source": [
    "import bisect\n",
    "import sys\n",
    "\n",
    "HAYSTACK = [1, 4, 5, 6, 8, 12, 15, 20, 21, 23, 23, 26, 29, 30]\n",
    "NEEDLES = [0, 1, 2, 5, 8, 10, 22, 23, 29, 30, 31]\n",
    "\n",
    "ROW_FMT = '{0:2d} @ {1:2d}    {2}{0:<2d}'\n",
    "\n",
    "def demo(bisect_fn):\n",
    "    for needle in reversed(NEEDLES):\n",
    "        position = bisect_fn(HAYSTACK, needle)  # <1>\n",
    "        offset = position * '  |'  # <2>\n",
    "        print(ROW_FMT.format(needle, position, offset))  # <3>\n",
    "\n",
    "if __name__ == '__main__':\n",
    "\n",
    "    if sys.argv[-1] == 'left':    # <4>\n",
    "        bisect_fn = bisect.bisect_left\n",
    "    else:\n",
    "        bisect_fn = bisect.bisect\n",
    "\n",
    "    print('DEMO:', bisect_fn.__name__)  # <5>\n",
    "    print('haystack ->', ' '.join('%2d' % n for n in HAYSTACK))\n",
    "    demo(bisect_fn)\n",
    "\n",
    "# END BISECT_DEMO"
   ]
  },
  {
   "cell_type": "code",
   "execution_count": 2,
   "metadata": {},
   "outputs": [
    {
     "data": {
      "text/plain": [
       "['F', 'A', 'C', 'C', 'B', 'A', 'A']"
      ]
     },
     "execution_count": 2,
     "metadata": {},
     "output_type": "execute_result"
    }
   ],
   "source": [
    "# bisect 可以用来建立一个用数字作为索引的查询表格 excel int >>> string\n",
    "def grade(score, breakpoints=[60, 70, 80, 90], grades='FDCBA'):\n",
    "    i = bisect.bisect(breakpoints, score)\n",
    "    return grades[i]\n",
    "[grade(score) for score in [33, 99, 77, 70, 89, 90, 100]]"
   ]
  },
  {
   "cell_type": "code",
   "execution_count": 4,
   "metadata": {},
   "outputs": [
    {
     "name": "stdout",
     "output_type": "stream",
     "text": [
      "10 -> [10]\n",
      " 0 -> [0, 10]\n",
      " 6 -> [0, 6, 10]\n",
      " 8 -> [0, 6, 8, 10]\n",
      " 7 -> [0, 6, 7, 8, 10]\n",
      " 2 -> [0, 2, 6, 7, 8, 10]\n",
      "10 -> [0, 2, 6, 7, 8, 10, 10]\n"
     ]
    }
   ],
   "source": [
    "import bisect\n",
    "import random\n",
    "SIZE=7\n",
    "\n",
    "random.seed(1729)\n",
    "my_list = []\n",
    "for i in range(SIZE):\n",
    "    new_item = random.randrange(SIZE*2)\n",
    "    bisect.insort(my_list, new_item)\n",
    "    print('%2d ->' % new_item, my_list)"
   ]
  },
  {
   "cell_type": "markdown",
   "metadata": {},
   "source": [
    "2.9 当列表不是首选时\n",
    "* float >> array\n",
    "* fluently first in first out >>> deque\n",
    "* unique >>> set because set is unorder\n",
    "\n",
    "\n",
    "2.9.1 array \n",
    "数组还提供从文件读取和存入文件的更快的方法,如.frombytes 和 .tofile\n",
    "\n",
    "python array is simlar with C eg: array('b') \n",
    "\n",
    "a = array.array(a.typecode, sorted(a))\n",
    "\n"
   ]
  },
  {
   "cell_type": "markdown",
   "metadata": {},
   "source": [
    "2.9.2 双向队列和其他形式的队列\n",
    "<br>\n",
    "append + pop >>> used as stack last in first out\n",
    "<br>addend + pop(0) >>> first in first out quequen >>> time-consuming \n",
    "\n",
    "collections.deque 类(双向队列)是一个线程安全、可以快速从两\n",
    "端添加或者删除元素的数据类型。\n",
    "\n",
    "\n",
    "__queue__\n",
    "<br>\n",
    "__PriorityQueue, Queue、LifoQueue__\n",
    "\n",
    "不同的线程可以利用这些数据类型来交换信息。这三个类的构造方法都有一个可选参maxsize,它接收正整数作为输入值,用来限定队列的大小。\n",
    "但是在满员的时候,这些类不会扔掉旧的元素来腾出位置。\n",
    "如果队列满了,它就会被锁住,直到另外的线程移除了某个元素而腾出了位置.\n",
    "这一特性让这些类很适合用来控制活跃线程的数量\n",
    "\n",
    "__multiprocessing__ :\n",
    "它跟 queue.Queue 类似,是设计给进程间通信用的"
   ]
  },
  {
   "cell_type": "code",
   "execution_count": 9,
   "metadata": {},
   "outputs": [
    {
     "name": "stdout",
     "output_type": "stream",
     "text": [
      "deque([0, 1, 2, 3, 4, 5, 6, 7, 8, 9], maxlen=10)\n",
      "deque([7, 8, 9, 0, 1, 2, 3, 4, 5, 6], maxlen=10)\n",
      "deque([1, 2, 3, 4, 5, 6, 7, 8, 9, 0], maxlen=10)\n",
      "deque([-1, 1, 2, 3, 4, 5, 6, 7, 8, 9], maxlen=10)\n",
      "deque([40, 30, 20, 10, -1, 1, 2, 3, 4, 5], maxlen=10)\n"
     ]
    }
   ],
   "source": [
    "from collections import deque\n",
    "dq = deque(range(10), maxlen=10)\n",
    "print(dq)\n",
    "dq.rotate(3)\n",
    "print(dq)\n",
    "dq.rotate(-4)\n",
    "\"\"\"\n",
    "当 n > 0 时,队列的最右边的 n个元素会被移动到队列的左边。\n",
    "当 n < 0 时,最左边的 n 个元素会被移动到右边\n",
    "\"\"\"\n",
    "print(dq)\n",
    "dq.appendleft(-1) #已满队列做尾部添加操作的时候,它头部的元素会被删除掉 \n",
    "print(dq)\n",
    "dq.extendleft([10, 20, 30, 40])\n",
    "\"\"\"\n",
    "extendleft(iter) 方法会把迭代器里的元素逐个添加到双向队列\n",
    "的左边,因此迭代器里的元素会逆序出现在队列里。\n",
    "\"\"\"\n",
    "print(dq)\n"
   ]
  },
  {
   "cell_type": "markdown",
   "metadata": {},
   "source": [
    "# dictionary and set\n",
    "\n",
    "* 散列表则是字典类型性能出众的根本原因 集合(set)的实现其实也依赖于散列表<br>\n",
    "什么是可散列数据类型 hasable <br>\n",
    "如果一个对象是可散列的，那么在这个对象的生命周期中，它的散列值是不变的，而且这个对象需要实现 __hash__() 方法。\n",
    "另外可散列对象还要有 __qe__() 方法，这样才能跟其他键做比较\n",
    "\n",
    "eg：  str bytes 和数值类型，forozenset >>> 只能容纳可散列的<br>\n",
    "元组： 内含元素必须可散列\n"
   ]
  },
  {
   "cell_type": "code",
   "execution_count": 4,
   "metadata": {},
   "outputs": [
    {
     "ename": "NameError",
     "evalue": "name 'country_code' is not defined",
     "output_type": "error",
     "traceback": [
      "\u001b[1;31m---------------------------------------------------------------------------\u001b[0m",
      "\u001b[1;31mNameError\u001b[0m                                 Traceback (most recent call last)",
      "\u001b[1;32m<ipython-input-4-6bf8100062ff>\u001b[0m in \u001b[0;36m<module>\u001b[1;34m\u001b[0m\n\u001b[0;32m      5\u001b[0m \u001b[0mcountry\u001b[0m \u001b[1;33m=\u001b[0m \u001b[1;33m{\u001b[0m\u001b[0mcountry\u001b[0m\u001b[1;33m:\u001b[0m \u001b[0mcode\u001b[0m \u001b[1;32mfor\u001b[0m \u001b[0mcode\u001b[0m\u001b[1;33m,\u001b[0m \u001b[0mcountry\u001b[0m \u001b[1;32min\u001b[0m \u001b[0mDIAL_CODES\u001b[0m\u001b[1;33m}\u001b[0m\u001b[1;33m\u001b[0m\u001b[1;33m\u001b[0m\u001b[0m\n\u001b[0;32m      6\u001b[0m \u001b[1;33m\u001b[0m\u001b[0m\n\u001b[1;32m----> 7\u001b[1;33m \u001b[0mcountry_select\u001b[0m \u001b[1;33m=\u001b[0m \u001b[1;33m{\u001b[0m\u001b[0mcode\u001b[0m\u001b[1;33m:\u001b[0m \u001b[0mcountry\u001b[0m\u001b[1;33m.\u001b[0m\u001b[0mupper\u001b[0m\u001b[1;33m(\u001b[0m\u001b[1;33m)\u001b[0m \u001b[1;32mfor\u001b[0m \u001b[0mcountry\u001b[0m\u001b[1;33m,\u001b[0m \u001b[0mcode\u001b[0m \u001b[1;32min\u001b[0m \u001b[0mcountry_code\u001b[0m\u001b[1;33m.\u001b[0m\u001b[0mitems\u001b[0m\u001b[1;33m(\u001b[0m\u001b[1;33m)\u001b[0m \u001b[1;32mif\u001b[0m \u001b[0mcode\u001b[0m \u001b[1;33m<\u001b[0m \u001b[1;36m66\u001b[0m\u001b[1;33m}\u001b[0m\u001b[1;33m\u001b[0m\u001b[1;33m\u001b[0m\u001b[0m\n\u001b[0m",
      "\u001b[1;31mNameError\u001b[0m: name 'country_code' is not defined"
     ]
    }
   ],
   "source": [
    "# 3.2 字典推导\n",
    "DIAL_CODES = [ (86, 'China'), (91, 'India'), (1, 'United States'), (62, 'Indonesia'), (55, 'Brazil'), (92, 'Pakistan'), (880, 'Bangladesh'), (234, 'Nigeria'),\n",
    "(7, 'Russia'), (81, 'Japan') ]\n",
    "\n",
    "country = {country: code for code, country in DIAL_CODES}\n",
    "\n",
    "country_select = {code: country.upper() for country, code in country.items() if code < 66}"
   ]
  },
  {
   "cell_type": "markdown",
   "metadata": {},
   "source": [
    "# 7 \n",
    "*  Python 如何计算装饰器句法\n",
    "*  Python 如何判断变量是不是局部的\n",
    "*  闭包存在的原因和工作原理\n",
    "*  nonlocal 能解决什么问题\n",
    "*  实现行为良好的装饰器\n",
    "*  标准库中有用的装饰器\n",
    "*  实现一个参数化装饰器"
   ]
  },
  {
   "cell_type": "markdown",
   "metadata": {},
   "source": [
    "7.1 Basic knowledge \n",
    "<br>\n",
    "装饰器是可调用的对象，其参数是另一个函数（被装饰的函数), 有时，这样做更方便，尤其是做元编程（在运行时改变程序的行为）时<br>\n",
    "Feature: **能把被装饰的函数替换成其他函数,装饰器在加载模块时立即执行**"
   ]
  },
  {
   "cell_type": "code",
   "execution_count": 1,
   "metadata": {},
   "outputs": [
    {
     "name": "stdout",
     "output_type": "stream",
     "text": [
      "running inner\n"
     ]
    }
   ],
   "source": [
    "def deco(func):\n",
    "    def inner():\n",
    "        print(\"running inner\")\n",
    "    return inner\n",
    "@deco\n",
    "def target():\n",
    "    print(\"running target\")\n",
    "target()"
   ]
  },
  {
   "cell_type": "markdown",
   "metadata": {},
   "source": [
    "7.2 Python何时执行装饰器\n",
    "被装饰的函数定义之后立即运行。通常是在导入时（即 Python 加载模块时)\n",
    "<br>  >>>**导入时和运行时**之间的区别。\n",
    "*  装饰器函数与被装饰的函数在同一个模块中定义。实际情况是，装饰器通常在一个模块中定义，然后应用到其他模块中的函数上。\n",
    "*  register 装饰器返回的函数与通过参数传入的相同。实际上，大多数装饰器会在内部定义一个函数，然后将其返回。"
   ]
  },
  {
   "cell_type": "code",
   "execution_count": 2,
   "metadata": {},
   "outputs": [
    {
     "name": "stdout",
     "output_type": "stream",
     "text": [
      "running register(<function f1 at 0x00000243E26A0BF8>)\n",
      "running register(<function f2 at 0x00000243E26A0E18>)\n",
      "running main()\n",
      "registry -> [<function f1 at 0x00000243E26A0BF8>, <function f2 at 0x00000243E26A0E18>]\n",
      "running f1()\n",
      "running f2()\n",
      "running f3()\n"
     ]
    }
   ],
   "source": [
    "registry = [] \n",
    "def register(func): \n",
    "    print('running register(%s)' % func) \n",
    "    registry.append(func) \n",
    "    return func \n",
    "@register \n",
    "def f1():\n",
    "    print('running f1()')\n",
    "@register\n",
    "def f2():\n",
    "    print('running f2()')\n",
    "def f3(): \n",
    "    print('running f3()')\n",
    "def main(): \n",
    "    print('running main()')\n",
    "    print('registry ->', registry)\n",
    "    f1()\n",
    "    f2()\n",
    "    f3()\n",
    "main()"
   ]
  },
  {
   "cell_type": "markdown",
   "metadata": {},
   "source": [
    "7.4变量作用域规则<br>\n",
    "Python 编译函数的定义体时，它判断 b 是局部变量，因为在函数中给它赋值了。生成的字节码证实了这种判断"
   ]
  },
  {
   "cell_type": "code",
   "execution_count": 3,
   "metadata": {},
   "outputs": [
    {
     "name": "stdout",
     "output_type": "stream",
     "text": [
      "3\n"
     ]
    },
    {
     "ename": "UnboundLocalError",
     "evalue": "local variable 'b' referenced before assignment",
     "output_type": "error",
     "traceback": [
      "\u001b[1;31m---------------------------------------------------------------------------\u001b[0m",
      "\u001b[1;31mUnboundLocalError\u001b[0m                         Traceback (most recent call last)",
      "\u001b[1;32m<ipython-input-3-e63818de96e1>\u001b[0m in \u001b[0;36m<module>\u001b[1;34m\u001b[0m\n\u001b[0;32m      4\u001b[0m     \u001b[0mprint\u001b[0m\u001b[1;33m(\u001b[0m\u001b[0mb\u001b[0m\u001b[1;33m)\u001b[0m\u001b[1;33m\u001b[0m\u001b[1;33m\u001b[0m\u001b[0m\n\u001b[0;32m      5\u001b[0m     \u001b[0mb\u001b[0m \u001b[1;33m=\u001b[0m \u001b[1;36m9\u001b[0m \u001b[1;31m# error\u001b[0m\u001b[1;33m\u001b[0m\u001b[1;33m\u001b[0m\u001b[0m\n\u001b[1;32m----> 6\u001b[1;33m \u001b[0mf2\u001b[0m\u001b[1;33m(\u001b[0m\u001b[1;36m3\u001b[0m\u001b[1;33m)\u001b[0m\u001b[1;33m\u001b[0m\u001b[1;33m\u001b[0m\u001b[0m\n\u001b[0m",
      "\u001b[1;32m<ipython-input-3-e63818de96e1>\u001b[0m in \u001b[0;36mf2\u001b[1;34m(a)\u001b[0m\n\u001b[0;32m      2\u001b[0m \u001b[1;32mdef\u001b[0m \u001b[0mf2\u001b[0m\u001b[1;33m(\u001b[0m\u001b[0ma\u001b[0m\u001b[1;33m)\u001b[0m\u001b[1;33m:\u001b[0m\u001b[1;33m\u001b[0m\u001b[1;33m\u001b[0m\u001b[0m\n\u001b[0;32m      3\u001b[0m     \u001b[0mprint\u001b[0m\u001b[1;33m(\u001b[0m\u001b[0ma\u001b[0m\u001b[1;33m)\u001b[0m\u001b[1;33m\u001b[0m\u001b[1;33m\u001b[0m\u001b[0m\n\u001b[1;32m----> 4\u001b[1;33m     \u001b[0mprint\u001b[0m\u001b[1;33m(\u001b[0m\u001b[0mb\u001b[0m\u001b[1;33m)\u001b[0m\u001b[1;33m\u001b[0m\u001b[1;33m\u001b[0m\u001b[0m\n\u001b[0m\u001b[0;32m      5\u001b[0m     \u001b[0mb\u001b[0m \u001b[1;33m=\u001b[0m \u001b[1;36m9\u001b[0m \u001b[1;31m# error\u001b[0m\u001b[1;33m\u001b[0m\u001b[1;33m\u001b[0m\u001b[0m\n\u001b[0;32m      6\u001b[0m \u001b[0mf2\u001b[0m\u001b[1;33m(\u001b[0m\u001b[1;36m3\u001b[0m\u001b[1;33m)\u001b[0m\u001b[1;33m\u001b[0m\u001b[1;33m\u001b[0m\u001b[0m\n",
      "\u001b[1;31mUnboundLocalError\u001b[0m: local variable 'b' referenced before assignment"
     ]
    }
   ],
   "source": [
    "b = 6\n",
    "def f2(a):\n",
    "    print(a)\n",
    "    print(b)\n",
    "    b = 9 # error\n",
    "f2(3)"
   ]
  },
  {
   "cell_type": "markdown",
   "metadata": {},
   "source": [
    "7.5 闭包<br>\n",
    "difference 闭包和匿名函数<br>**闭包**指延伸了作用域的函数，其中包含函数定义体中引用、但是不在定义体中定义的非全局变量。\n",
    "<br> 函数是不是匿名的没有关系，关键是它能访问定义体之外定义的非全局变量。\n",
    "<br> Python 的变量访问: 本地没有，找上级。 <br>>>> 闭包是一种函数，它会保留定义函数时存在的自由变量的绑定，这样调用函数时，虽然定义作用域不可用了，但是仍能使用那些绑定\n",
    "![close package](img/7_1.jpg)"
   ]
  },
  {
   "cell_type": "code",
   "execution_count": null,
   "metadata": {},
   "outputs": [],
   "source": [
    "#avg history fucntion\n",
    "# class method\n",
    "class Averager(): # 实例是可调用对象\n",
    "    def __init__(self):\n",
    "        self.series = []\n",
    "    def __call__(self, new_value):\n",
    "        self.series.append(new_value)\n",
    "        total = sum(self.series)\n",
    "        return total/len(self.series)\n",
    "def make_averager(): #调用 make_averager 时，返回一个 averager 函数对象。每次调用averager 时，它会把参数添加到系列值中，然后计算当前平均值\n",
    "    series = []\n",
    "        def averager(new_value):\n",
    "        series.append(new_value)\n",
    "        total = sum(series)\n",
    "        return total/len(series)\n",
    "    return averager\n"
   ]
  },
  {
   "cell_type": "markdown",
   "metadata": {},
   "source": [
    "7.6 nonlocal<br>\n",
    "作用：对数字、字符串、元组等不可变类型来说，只能读取，不能更新。如果尝试重新绑定,<br>其实会隐式创建局部变量 count。这样，count 就不是自由变量了，因此不会保存在闭包中"
   ]
  },
  {
   "cell_type": "code",
   "execution_count": 4,
   "metadata": {},
   "outputs": [],
   "source": [
    "def make_averager():\n",
    "    count = 0\n",
    "    total = 0\n",
    "    def averager(new_value):\n",
    "        count += 1 #error !!local variable 'count' referenced before assignment\n",
    "        total += new_value\n",
    "        return total / count\n",
    "    return averager\n",
    "\n",
    "def make_averager():\n",
    "    count = 0\n",
    "    total = 0\n",
    "    def averager(new_value):\n",
    "        nonlocal count, total\n",
    "        count += 1\n",
    "        total += new_value\n",
    "        return total / count\n",
    "    return averager"
   ]
  },
  {
   "cell_type": "markdown",
   "metadata": {},
   "source": [
    "# 8 对象引用、可变性和垃圾回收\n",
    "8.1变量不是盒子<br>\n",
    "是便利贴<br>\n",
    "8.2 标识、相等性和别名\n",
    "8.2.1 \n",
    "is 运算符比 == 速度快，因为它不能重载，所以 Python 不用寻找并调用特殊方法，而是直接比较两个整数 ID。<br>\n",
    "而 a == b 是语法糖，等同于a.__eq__(b)。继承自 object 的 __eq__ 方法比较两个对象的 ID，结果与 is 一样。<br>\n",
    "但是多数内置类型使用更有意义的方式覆盖了 __eq__ 方法，会考虑对象属性的值。相等性测试可能涉及大量处理工作，<br>\n",
    "例如，比较大型集合或嵌套层级深的结构时。"
   ]
  },
  {
   "cell_type": "code",
   "execution_count": 7,
   "metadata": {},
   "outputs": [
    {
     "name": "stdout",
     "output_type": "stream",
     "text": [
      "is:  True\n",
      "id:  2490585300064 2490585300064\n",
      "== False\n",
      "is not:  True\n"
     ]
    }
   ],
   "source": [
    "charles = {'name': 'Charles L. Dodgson', 'born': 1832}\n",
    "lewis = charles #别名\n",
    "print(\"is: \",lewis is charles)\n",
    "print(\"id: \",id(charles), id(lewis))\n",
    "alex = {'name': 'Charles L. Dodgson', 'born': 1832, 'balance': 950} #冒充者\n",
    "print(\"==\",alex == charles) #比较两个对象，结果相等，这是因为 dict 类的 __eq__ 方法就是这样实现的\n",
    "print(\"is not: \" ,alex is not charles) #但它们是不同的对象。这是 Python 说明标识不同的方式：a is notb。"
   ]
  },
  {
   "cell_type": "markdown",
   "metadata": {},
   "source": [
    "8.5 del和垃圾回收<br>\n",
    "del 语句删除名称，而不是对象。del 命令可能会导致对象被当作垃圾回收，<br>\n",
    "但是仅当删除的变量保存的是对象的最后一个引用，或者无法得到对象时。 <br>\n",
    "重新绑定也可能会导致对象的引用数量归零，导致对象被销毁。<br>\n",
    "在 CPython 中，垃圾回收使用的主要算法是引用计数。实际上，每个对象都会统计有多少引用指向自己。<br>\n",
    "当引用计数归零时，对象立即就被销毁：CPython 会在对象上调用 __del__ 方法（如果定义了），然后释放分配给对象的内存。<br>\n",
    "CPython　2.0 增加了分代垃圾回收算法，用于检测引用循环中涉及的对象组,<br>\n",
    "如果一组对象之间全是相互引用，即使再出色的引用方式也会导致组中的对象不可获取。<br>\n",
    "Python 的其他实现有更复杂的垃圾回收程序，而且不依赖引用计数，<br>\n",
    "这意味着，对象的引用数量为零时可能不会立即调用 __del__ 方法<br>"
   ]
  },
  {
   "cell_type": "markdown",
   "metadata": {},
   "source": [
    "# 16\n",
    "字典为动词“to yield”给出了两个释义：产出和让步。对于 Python 生成器\n",
    "中的 yield 来说，这两个含义都成立。yield item 这行代码会产出一\n",
    "个值，提供给 next(...) 的调用方；此外，还会作出让步，暂停执行\n",
    "生成器，让调用方继续工作，直到需要使用另一个值时再调用\n",
    "next()。调用方会从生成器中拉取值。"
   ]
  },
  {
   "cell_type": "code",
   "execution_count": null,
   "metadata": {},
   "outputs": [],
   "source": []
  }
 ],
 "metadata": {
  "kernelspec": {
   "display_name": "Python 3",
   "language": "python",
   "name": "python3"
  },
  "language_info": {
   "codemirror_mode": {
    "name": "ipython",
    "version": 3
   },
   "file_extension": ".py",
   "mimetype": "text/x-python",
   "name": "python",
   "nbconvert_exporter": "python",
   "pygments_lexer": "ipython3",
   "version": "3.7.3"
  }
 },
 "nbformat": 4,
 "nbformat_minor": 5
}
